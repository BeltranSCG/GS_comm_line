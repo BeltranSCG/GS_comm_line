{
 "cells": [
  {
   "cell_type": "code",
   "execution_count": 1,
   "metadata": {},
   "outputs": [
    {
     "name": "stdout",
     "output_type": "stream",
     "text": [
      "1\n",
      "2\n",
      "3\n",
      "4\n",
      "5\n"
     ]
    }
   ],
   "source": [
    "%%bash\n",
    "for i in {1..5}\n",
    "do\n",
    "echo $i\n",
    "done\n"
   ]
  },
  {
   "cell_type": "markdown",
   "metadata": {},
   "source": [
    "%%bash\n",
    "hostname"
   ]
  },
  {
   "cell_type": "code",
   "execution_count": 4,
   "metadata": {},
   "outputs": [
    {
     "name": "stdout",
     "output_type": "stream",
     "text": [
      "total 64\n",
      "drwxr-xr-x@  5 katerina  staff    160  8 Aug  2019 creatures\n",
      "drwxr-xr-x@ 11 katerina  staff    352  8 Aug  2019 data\n",
      "drwxr-xr-x@  8 katerina  staff    256  8 Aug  2019 molecules\n",
      "drwxr-xr-x@  3 katerina  staff     96  8 Aug  2019 north-pacific-gyre\n",
      "-rw-r--r--@  1 katerina  staff     86  8 Aug  2019 notes.txt\n",
      "-rw-r--r--@  1 katerina  staff     32  8 Aug  2019 pizza.cfg\n",
      "-rw-r--r--@  1 katerina  staff  21583  8 Aug  2019 solar.pdf\n",
      "drwxr-xr-x@  6 katerina  staff    192  8 Aug  2019 writing\n"
     ]
    }
   ],
   "source": [
    "%%bash\n",
    "cd data-shell\n",
    "ls -l\n"
   ]
  },
  {
   "cell_type": "markdown",
   "metadata": {},
   "source": [
    "### Background\n",
    "\n",
    "Humans and computers commonly interact in many different ways, such as through a keyboard and mouse, touch screen interfaces, or using speech recognition systems. The most widely used way to interact with personal computers is called a **graphical user interface** (GUI).\n",
    "With a GUI, we give instructions by clicking a mouse and using menu-driven interactions.\n",
    "\n",
    "While the visual aid of a GUI makes it intuitive to learn, this way of delivering instructions to a computer scales very poorly.\n",
    "Imagine the following task:\n",
    "for a literature search, you have to copy the third line of one thousand text files in one thousand different directories and paste it into a single file.\n",
    "Using a GUI, you would not only be clicking at your desk for several hours, but you could potentially also commit an error in the process of completing this repetitive task. This is where we take advantage of the Unix shell.\n",
    "The Unix shell is both a **command-line interface** (CLI) and a scripting language, allowing such repetitive tasks to be done automatically and fast.\n",
    "With the proper commands, the shell can repeat tasks with or without some modification as many times as we want.\n",
    "Using the shell, the task in the literature example can be accomplished in seconds.\n",
    "\n",
    "\n",
    "### The Shell\n",
    "\n",
    "\n",
    "The shell is a program where users can type commands.\n",
    "With the shell, it's possible to invoke complicated programs like climate modeling software or simple commands that create an empty directory with only one line of code.\n",
    "The most popular Unix shell is Bash (the Bourne Again SHell --- so-called because it's derived from a shell written by Stephen Bourne).\n",
    "Bash is the default shell on most modern implementations of Unix and in most packages that provide Unix-like tools for Windows.\n",
    "\n",
    "Using the shell will take some effort and some time to learn.\n",
    "While a GUI presents you with choices to select, CLI choices are not automatically presented to you, so you must learn a few commands like new vocabulary in a language you're studying.\n",
    "However, unlike a spoken language, a small number of \"words\" (i.e. commands) gets you a long way, and we'll cover those essential few today.\n",
    "\n",
    "The grammar of a shell allows you to combine existing tools into powerful\n",
    "pipelines and handle large volumes of data automatically. Sequences of\n",
    "commands can be written into a *script*, improving the reproducibility of\n",
    "workflows.\n",
    "\n",
    "In addition, the command line is often the easiest way to interact with remote machines and supercomputers.\n",
    "Familiarity with the shell is near essential to run a variety of specialized tools and resources\n",
    "including high-performance computing systems.\n",
    "As clusters and cloud computing systems become more popular for scientific data crunching,\n",
    "being able to interact with the shell is becoming a necessary skill.\n",
    "We can build on the command-line skills covered here\n",
    "to tackle a wide range of scientific questions and computational challenges.\n",
    "\n",
    "Let's get started.\n",
    "\n",
    "When the shell is first opened, you are presented with a **prompt**,\n",
    "indicating that the shell is waiting for input.\n",
    "\n",
    "~~~\n",
    "$\n",
    "~~~\n",
    "{: .language-bash}\n",
    "\n",
    "The shell typically uses `$ ` as the prompt, but may use a different symbol.\n",
    "In the examples for this lesson, we'll show the prompt as `$ `.\n",
    "Most importantly:\n",
    "when typing commands, either from these lessons or from other sources,\n",
    "*do not type the prompt*, only the commands that follow it.\n",
    "\n",
    "So let's try our first command, `ls` which is short for listing.\n",
    "This command will list the contents of the current directory:\n",
    "\n",
    "~~~\n",
    "$ ls\n",
    "~~~\n",
    "{: .language-bash}\n"
   ]
  },
  {
   "cell_type": "markdown",
   "metadata": {
    "collapsed": true
   },
   "source": [
    "---\n",
    "title: \"Navigating Files and Directories\"\n",
    "teaching: 30\n",
    "exercises: 10\n",
    "questions:\n",
    "- \"How can I move around on my computer?\"\n",
    "- \"How can I see what files and directories I have?\"\n",
    "- \"How can I specify the location of a file or directory on my computer?\"\n",
    "objectives:\n",
    "- \"Explain the similarities and differences between a file and a directory.\"\n",
    "- \"Translate an absolute path into a relative path and vice versa.\"\n",
    "- \"Construct absolute and relative paths that identify specific files and directories.\"\n",
    "- \"Use options and arguments to change the behaviour of a shell command\"\n",
    "- \"Demonstrate the use of tab completion, and explain its advantages.\"\n",
    "keypoints:\n",
    "- \"The file system is responsible for managing information on the disk.\"\n",
    "- \"Information is stored in files, which are stored in directories (folders).\"\n",
    "- \"Directories can also store other directories, which forms a directory tree.\"\n",
    "- \"`cd path` changes the current working directory.\"\n",
    "- \"`ls path` prints a listing of a specific file or directory; `ls` on its own lists the current working directory.\"\n",
    "- \"`pwd` prints the user's current working directory.\"\n",
    "- \"`/` on its own is the root directory of the whole file system.\"\n",
    "- \"A relative path specifies a location starting from the current location.\"\n",
    "- \"An absolute path specifies a location from the root of the file system.\"\n",
    "- \"Directory names in a path are separated with `/` on Unix, but `\\\\` on Windows.\"\n",
    "- \"`..` means 'the directory above the current one'; `.` on its own means 'the current directory'.\"\n",
    "---"
   ]
  },
  {
   "cell_type": "code",
   "execution_count": null,
   "metadata": {
    "collapsed": true
   },
   "outputs": [],
   "source": []
  }
 ],
 "metadata": {
  "kernelspec": {
   "display_name": "Python [default]",
   "language": "python",
   "name": "python3"
  },
  "language_info": {
   "codemirror_mode": {
    "name": "ipython",
    "version": 3
   },
   "file_extension": ".py",
   "mimetype": "text/x-python",
   "name": "python",
   "nbconvert_exporter": "python",
   "pygments_lexer": "ipython3",
   "version": "3.6.7"
  }
 },
 "nbformat": 4,
 "nbformat_minor": 2
}
