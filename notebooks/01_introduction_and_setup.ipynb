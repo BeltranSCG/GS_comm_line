{
 "cells": [
  {
   "cell_type": "markdown",
   "metadata": {},
   "source": [
    "# Episode 1 - Introduction and setup\n",
    "This notebook is based on a snapshot of [Episode 1](https://kmichali.github.io/SC-shell-novice/01-intro/index.html) of the [Unix Shell lesson](https://kmichali.github.io/SC-shell-novice/) from the [Software Carpentry](https://software-carpentry.org). The original material has more detail.\n",
    "\n",
    "### Questions:\n",
    "- What is a command shell and why would I use one?\n",
    "- How is this lesson going to work?\n",
    "\n",
    "### Objectives:\n",
    "- Explain how the shell relates to the keyboard, the screen, the operating system, and users’ programs.\n",
    "- Explain when and why command-line interfaces should be used instead of graphical interfaces.\n",
    "\n",
    "<hr style=\"border: solid 1px red; margin-top: 1.5% \">"
   ]
  },
  {
   "cell_type": "markdown",
   "metadata": {},
   "source": [
    "## Background\n",
    "<hr style=\"border: solid 1px gray; margin-top: 1.5% \">\n",
    "\n",
    "Humans and computers commonly interact in many different ways, such as through a keyboard and mouse, touch screen interfaces, or using speech recognition systems. The most widely used way to interact with personal computers is called a graphical user interface (GUI). With a GUI, we give instructions by clicking a mouse and using menu-driven interactions.\n",
    "\n",
    "While the visual aid of a GUI makes it intuitive to learn, this way of delivering instructions to a computer scales very poorly. Imagine the following task: for a literature search, you have to copy the third line of one thousand text files in one thousand different directories and paste it into a single file. Using a GUI, you would not only be clicking at your desk for several hours, but you could potentially also commit an error in the process of completing this repetitive task. This is where we take advantage of the Unix shell. The Unix shell is both a command-line interface (CLI) and a scripting language, allowing such repetitive tasks to be done automatically and fast. With the proper commands, the shell can repeat tasks with or without some modification as many times as we want. Using the shell, the task in the literature example can be accomplished in seconds.\n",
    "\n"
   ]
  },
  {
   "cell_type": "markdown",
   "metadata": {},
   "source": [
    "## The Shell\n",
    "<hr style=\"border: solid 1px gray; margin-top: 1.5% \">\n",
    "\n",
    "The shell is a program where users can type commands. With the shell, it’s possible to invoke complicated programs like climate modeling software or simple commands that create an empty directory with only one line of code. The most popular Unix shell is Bash (the Bourne Again SHell — so-called because it’s derived from a shell written by Stephen Bourne). Bash is the default shell on most modern implementations of Unix and in most packages that provide Unix-like tools for Windows.\n",
    "\n",
    "Using the shell will take some effort and some time to learn. While a GUI presents you with choices to select, CLI choices are not automatically presented to you, so you must learn a few commands like new vocabulary in a language you’re studying. However, unlike a spoken language, a small number of “words” (i.e. commands) gets you a long way, and we’ll cover those essential few today.\n",
    "\n",
    "The grammar of a shell allows you to combine existing tools into powerful pipelines and handle large volumes of data automatically. Sequences of commands can be written into a script, improving the reproducibility of workflows.\n",
    "\n",
    "In addition, the command line is often the easiest way to interact with remote machines and supercomputers. Familiarity with the shell is near essential to run a variety of specialized tools and resources including high-performance computing systems. As clusters and cloud computing systems become more popular for scientific data crunching, being able to interact with the shell is becoming a necessary skill. We can build on the command-line skills covered here to tackle a wide range of scientific questions and computational challenges."
   ]
  },
  {
   "cell_type": "markdown",
   "metadata": {},
   "source": [
    "## Shell and commands\n",
    "<hr style=\"border: solid 1px gray; margin-top: 1.5% \">\n",
    "\n",
    "Below is a picture of a shell running bash version 4.2:\n",
    "\n",
    "![Shell](../fig/shell.png)\n",
    "\n",
    "The **`$`** symbol is called the prompt.  One types **commands and their arguments** beside the prompt and executes by pressing **`Enter`**.\n",
    "\n",
    "- If a command exists and is in a correct format, shell will execute.  Depending on a command, there may be output on the screen below the prompt.\n",
    "\n",
    "- If a command does not exist or if the format is not as expected, it will produce an error. Below is an example of an error message that resulted from the user typing a command that does not exist.\n",
    "\n",
    "![Shell](../fig/shell_error.png)\n",
    "\n",
    "In principle, there are two categories of commands:\n",
    "- commands that are part of the Linux system - commands for general tasks that have to do with file, directory and system management, programming language interpreters and compilers, text editors etc.\n",
    "\n",
    "- user-defined commands - commands that run software packages and scripts that are installed by a user; for example scientific software, commercial software packages etc."
   ]
  },
  {
   "cell_type": "markdown",
   "metadata": {},
   "source": [
    "## This lesson\n",
    "\n",
    "This lesson is based on the materials by [Software Carpentry](https://kmichali.github.io/SC-shell-novice/).\n",
    "\n",
    "There are an excellent resource for self-study that do not contain interactive examples.  I recreated a streamlined version in Jupyter Notebooks in an attempt to provide an environment where students can follow the instruction, execute commands and practice in one place.  \n",
    "\n",
    "Jupyter Notebooks include non-interactive text and interactive cells (in light grey with \"In[  ]\" to the left). **The cells can be executed, place the mouse cursor in the cell and press Shift+Enter.**\n",
    "\n",
    "Below is an executable cell containg Linux command **`ls`**.  Execute to test your notebook, you should see a list of files and directories below the cell."
   ]
  },
  {
   "cell_type": "code",
   "execution_count": 1,
   "metadata": {},
   "outputs": [
    {
     "name": "stdout",
     "output_type": "stream",
     "text": [
      "01_introduction_and_setup.ipynb        05_for_loops.ipynb\r\n",
      "02_navigating_files_directories.ipynb  07_finding_things.ipynb\r\n",
      "03_working_files_directories.ipynb     \u001b[34mdata-shell\u001b[m\u001b[m/\r\n",
      "04_pipes_filters.ipynb\r\n"
     ]
    }
   ],
   "source": [
    "ls"
   ]
  },
  {
   "cell_type": "markdown",
   "metadata": {},
   "source": [
    "## Notebook or shell?\n",
    "\n",
    "Jupyter Notebooks are "
   ]
  }
 ],
 "metadata": {
  "kernelspec": {
   "display_name": "Python [default]",
   "language": "python",
   "name": "python3"
  },
  "language_info": {
   "codemirror_mode": {
    "name": "ipython",
    "version": 3
   },
   "file_extension": ".py",
   "mimetype": "text/x-python",
   "name": "python",
   "nbconvert_exporter": "python",
   "pygments_lexer": "ipython3",
   "version": "3.6.7"
  }
 },
 "nbformat": 4,
 "nbformat_minor": 2
}
