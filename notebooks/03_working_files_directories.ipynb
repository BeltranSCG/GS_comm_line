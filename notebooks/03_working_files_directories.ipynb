{
 "cells": [
  {
   "cell_type": "markdown",
   "metadata": {},
   "source": [
    "# Episode 3 - Working with Files and Directories\n",
    "\n",
    "### Questions:\n",
    "- How can I create, copy, and delete files and directories?\n",
    "- How can I edit files?\n",
    "\n",
    "### Objectives:\n",
    "- Create a directory hierarchy that matches a given diagram.\n",
    "- Create files in that hierarchy using an editor or by copying and renaming existing files.\n",
    "- Delete, copy and move specified files and/or directories.\n",
    "\n",
    "***"
   ]
  },
  {
   "cell_type": "markdown",
   "metadata": {},
   "source": [
    "If you just opened this notebook, your current directory is most likely to be **`somewhere_on_your_laptop/GS_comm_line/notebooks`**. Let's start by changing directory to **`data-shell`**.  \n",
    "\n",
    "Note: This time, we will skip %%bash magic command so the new current working directory persists."
   ]
  },
  {
   "cell_type": "code",
   "execution_count": 1,
   "metadata": {},
   "outputs": [
    {
     "name": "stdout",
     "output_type": "stream",
     "text": [
      "/Users/katerina/GS_comm_line/notebooks/data-shell\n"
     ]
    }
   ],
   "source": [
    "cd data-shell"
   ]
  },
  {
   "cell_type": "markdown",
   "metadata": {},
   "source": [
    "## Make a new directory\n",
    "\n",
    "Let’s create a new directory called thesis using the command **`mkdir thesis`**. This command produces no output, so we have to check with **`ls`**.\n"
   ]
  },
  {
   "cell_type": "code",
   "execution_count": 5,
   "metadata": {},
   "outputs": [
    {
     "name": "stdout",
     "output_type": "stream",
     "text": [
      "creatures/\n",
      "data/\n",
      "molecules/\n",
      "north-pacific-gyre/\n",
      "notes.txt\n",
      "pizza.cfg\n",
      "solar.pdf\n",
      "thesis/\n",
      "writing/\n"
     ]
    },
    {
     "name": "stderr",
     "output_type": "stream",
     "text": [
      "mkdir: thesis: File exists\n"
     ]
    }
   ],
   "source": [
    "%%bash \n",
    "mkdir thesis\n",
    "ls -F"
   ]
  },
  {
   "cell_type": "code",
   "execution_count": 3,
   "metadata": {},
   "outputs": [
    {
     "name": "stdout",
     "output_type": "stream",
     "text": [
      "\u001b[34mcreatures\u001b[m\u001b[m/          \u001b[34mnorth-pacific-gyre\u001b[m\u001b[m/ solar.pdf\r\n",
      "\u001b[34mdata\u001b[m\u001b[m/               notes.txt           \u001b[34mthesis\u001b[m\u001b[m/\r\n",
      "\u001b[34mmolecules\u001b[m\u001b[m/          pizza.cfg           \u001b[34mwriting\u001b[m\u001b[m/\r\n"
     ]
    }
   ],
   "source": []
  },
  {
   "cell_type": "code",
   "execution_count": null,
   "metadata": {
    "collapsed": true
   },
   "outputs": [],
   "source": []
  }
 ],
 "metadata": {
  "kernelspec": {
   "display_name": "Python [default]",
   "language": "python",
   "name": "python3"
  },
  "language_info": {
   "codemirror_mode": {
    "name": "ipython",
    "version": 3
   },
   "file_extension": ".py",
   "mimetype": "text/x-python",
   "name": "python",
   "nbconvert_exporter": "python",
   "pygments_lexer": "ipython3",
   "version": "3.6.7"
  }
 },
 "nbformat": 4,
 "nbformat_minor": 2
}
