{
 "cells": [
  {
   "cell_type": "markdown",
   "metadata": {},
   "source": [
    "# Episode 5 - For loops\n",
    "This notebook is based on a snapshot of [Episode 5](https://kmichali.github.io/SC-shell-novice/05-loop/index.html) of the [Unix Shell lesson](https://kmichali.github.io/SC-shell-novice/) from the [Software Carpentry](https://software-carpentry.org). The original material has more detail.\n",
    "\n",
    "### Questions:\n",
    "- How can I perform the same actions on many different files?\n",
    "\n",
    "### Objectives:\n",
    "- Write a loop that applies one or more commands separately to each file in a set of files.\n",
    "- Trace the values taken on by a loop variable during execution of the loop.\n",
    "- Explain the difference between a variable’s name and its value.\n",
    "\n",
    "<hr style=\"border: solid 1px red; margin-top: 1.5% \">\n",
    "\n",
    "### Video\n",
    "Learn with [video](https://imperial.cloud.panopto.eu/Panopto/Pages/Viewer.aspx?id=cbaa59c0-8902-4047-8b8f-abd700ba3755).\n",
    "\n",
    "### Practice data in Google Colab\n",
    "If you are viewing this notebook in Colab and have saved it in your Drive (\"File\"->\"Save a copy in Drive\"), run the cell below to download practice data."
   ]
  },
  {
   "cell_type": "code",
   "execution_count": 1,
   "metadata": {},
   "outputs": [
    {
     "name": "stdout",
     "output_type": "stream",
     "text": [
      "data already exists\n"
     ]
    }
   ],
   "source": [
    "%%bash\n",
    "[ -e data-shell ] && echo \"data already exists\" || { wget https://kmichali.github.io/SC-shell-novice/data/data-shell.zip; unzip data-shell.zip; } "
   ]
  },
  {
   "cell_type": "markdown",
   "metadata": {},
   "source": [
    "<hr style=\"border: solid 1px red; margin-top: 1.5% \">"
   ]
  },
  {
   "cell_type": "markdown",
   "metadata": {},
   "source": [
    "Loops are a programming construct that allows us to repeat a command (or set of commands) for each item in a list. As such they are key to productivity improvements through automation. Similar to wildcards, using loops also reduces the amount of typing required (and hence reduces the number of typing mistakes).\n",
    "\n",
    "Suppose we have several hundred genome data files (e.g., basilisk.dat, minotaur.dat, and unicorn.dat). For this example, we’ll use the **`creatures`** directory which only has three example files, but the principles can be applied to many many more files at once.\n",
    "\n",
    "The structure of these files is the same: the common name, classification, and updated date are presented on the first three lines, with DNA sequences on the following lines. Let’s look at the files:"
   ]
  },
  {
   "cell_type": "code",
   "execution_count": 2,
   "metadata": {},
   "outputs": [
    {
     "name": "stdout",
     "output_type": "stream",
     "text": [
      "/Users/beltranscg/Desktop/PhD/Year1/GS_comm_line/notebooks/data-shell/creatures\n"
     ]
    }
   ],
   "source": [
    "cd data-shell/creatures"
   ]
  },
  {
   "cell_type": "code",
   "execution_count": 3,
   "metadata": {},
   "outputs": [
    {
     "name": "stdout",
     "output_type": "stream",
     "text": [
      "basilisk.dat\n",
      "minotaur.dat\n",
      "unicorn.dat\n",
      "COMMON NAME: basilisk\n",
      "CLASSIFICATION: basiliscus vulgaris\n",
      "UPDATED: 1745-05-02\n",
      "CCCCAACGAG\n",
      "GAAACAGATC\n",
      "ATTAGAAGAT\n",
      "CTGTCGCGAA\n",
      "CCGCACCTCT\n",
      "CCTATCTACA\n",
      "TGTTTGTCTC\n",
      "TGGGTGGGGA\n",
      "TCCATAGGCA\n",
      "GCATTACCAG\n",
      "CACCCTACGA\n",
      "TAAGGACTTC\n",
      "CGTCAGAGAT\n",
      "TTCCTGGTAT\n",
      "TATACAGCTC\n",
      "CTAGTGTTAT\n",
      "CCAGTTTGTG\n",
      "TCGTCCCATA\n",
      "GCCAGCAAGA\n",
      "GCCAAACAAA\n",
      "AGCCGGGTCG\n",
      "CTTTACCTTA\n",
      "AAGCCGAGGG\n",
      "GGGTGGTACG\n",
      "CCGAACATAA\n",
      "ACGCTTTAAC\n",
      "GTCCCTCCAG\n",
      "GCTGATAATC\n",
      "GTTTAAGCAC\n",
      "ACGTGGTCTA\n",
      "GAGTTGCGCT\n",
      "TACCGGACAA\n",
      "ACCTGCGCGT\n",
      "TGAAAGGGTT\n",
      "ACGCCTGGTA\n",
      "CGAAATAAGA\n",
      "CGAACCCCAG\n",
      "GACCCAGCAG\n",
      "ACAAAGGAAC\n",
      "GTGCTAGGCC\n",
      "CATATAATCA\n",
      "GGTAGATCGA\n",
      "TCTCTCTCCT\n",
      "AAGTTGTGGT\n",
      "CAAACAGGCG\n",
      "CGCGCTAGTT\n",
      "GGGTATGCCC\n",
      "GCCCAATAAC\n",
      "TGGTGGGGCC\n",
      "TGTGTGTAAA\n",
      "CTTCGATCAA\n",
      "TTTTGCAATT\n",
      "TATGTGCAGC\n",
      "TAACTGAATA\n",
      "TGTGATGTGT\n",
      "TGGAACCCGG\n",
      "ACTTCCTTTA\n",
      "CATTTCGCGC\n",
      "CCTAGTGTTT\n",
      "CAAGCGTCGC\n",
      "TGAGGTTATG\n",
      "ATTTATAGGA\n",
      "CACACTCAGC\n",
      "CGCGAACACA\n",
      "CAGTGTCATG\n",
      "ACTAAGTAGA\n",
      "ATCACCCATA\n",
      "TTCTCGTTAG\n",
      "TGCGATTGTA\n",
      "CCGCTTGAAC\n",
      "CTCGTATGCC\n",
      "TGGACCCGCT\n",
      "TCGATTTACA\n",
      "GCAATTCGAC\n",
      "TGGTGGTGAT\n",
      "TAACTTGAAG\n",
      "GATATGGTTT\n",
      "CGGTACCGAA\n",
      "AAGGGTCGCG\n",
      "CAAGTGTTCC\n",
      "CGGGACAATA\n",
      "GTTCTGCTAA\n",
      "GATAAGTATG\n",
      "TGCCGACTTA\n",
      "CCCGACCGTC\n",
      "TAGGTTATAA\n",
      "GGCACAACCG\n",
      "CTTCACTGTA\n",
      "GAGGTGTACA\n",
      "AGGATCCGTT\n",
      "GCGCGGGCGG\n",
      "CAGTCTATGT\n",
      "TTTTCGACAC\n",
      "TGGACTGCTT\n",
      "CCCTTTGAGG\n",
      "GTGGATTTTT\n",
      "CGTAACGGGT\n",
      "GAGTCCCTTG\n",
      "TGATTCCAGA\n",
      "CACGGGTTGC\n",
      "CGGGCGCTAC\n",
      "CCGCCGACGC\n",
      "CAGGCTTGGC\n",
      "AAGAGCGGTA\n",
      "TAAGGGCTCG\n",
      "CTACCACTTG\n",
      "TACTAGACTG\n",
      "ATTTGCGGAC\n",
      "GGTAGTAGCG\n",
      "CGGTGATCCC\n",
      "TATCATACGG\n",
      "GGTTTGGTGT\n",
      "ATGAGCCCTG\n",
      "CTGTCTTTTC\n",
      "TAGCGTACCA\n",
      "CAGATTGAAC\n",
      "TCCTCTTCTC\n",
      "GCGTTTCAGC\n",
      "GGTTAAAATT\n",
      "GCGATCCTCT\n",
      "CAGACCTTTG\n",
      "GTTGCCTTCG\n",
      "GTCCTTCCAC\n",
      "GCCTTCCTAT\n",
      "GATAGTAGCC\n",
      "TCACCTTCCA\n",
      "TCTCAAATCC\n",
      "CTCCCGCGAC\n",
      "CTTTGATTGT\n",
      "ACCGTTCAAG\n",
      "CCCTGACATA\n",
      "CCCACTCAAT\n",
      "ATTGACCCCT\n",
      "GCCGTATAGA\n",
      "CGTTGTCGGG\n",
      "ATAGCCAGAA\n",
      "CCAGTACTCT\n",
      "CTATCGGAAG\n",
      "CGTGACAGGC\n",
      "CCAAATACCT\n",
      "CGTTTAAAGC\n",
      "TGGACGCATC\n",
      "ACACTTGCTT\n",
      "GACTAACAGA\n",
      "GTGCTGGCCC\n",
      "GTGTTATTCA\n",
      "GCTAATGCAT\n",
      "CATGGGATCA\n",
      "GACGCCTGTA\n",
      "TATACAATTT\n",
      "TCAACTGCTC\n",
      "GAACTACTCG\n",
      "CCAAAACACT\n",
      "TTCGACTAGG\n",
      "CGATCGACCA\n",
      "AGAAAAGAGA\n",
      "CTGGACTGCT\n",
      "TACAGAGGTT\n",
      "TGAACTTTAC\n",
      "CGCGCCCACC\n"
     ]
    }
   ],
   "source": [
    "%%bash\n",
    "ls *.dat\n",
    "cat basilisk.dat"
   ]
  },
  {
   "cell_type": "code",
   "execution_count": 6,
   "metadata": {},
   "outputs": [
    {
     "name": "stdout",
     "output_type": "stream",
     "text": [
      "==> basilisk.dat <==\n",
      "COMMON NAME: basilisk\n",
      "CLASSIFICATION: basiliscus vulgaris\n",
      "\n",
      "==> minotaur.dat <==\n",
      "COMMON NAME: minotaur\n",
      "CLASSIFICATION: bos hominus\n",
      "\n",
      "==> unicorn.dat <==\n",
      "COMMON NAME: unicorn\n",
      "CLASSIFICATION: equus monoceros\n"
     ]
    }
   ],
   "source": [
    "%%bash\n",
    "head -n 2 *.dat"
   ]
  },
  {
   "cell_type": "markdown",
   "metadata": {},
   "source": [
    "## Print second line from every file\n",
    "<hr style=\"border: solid 1px gray; margin-top: 1.5% \">\n",
    "\n",
    "We would like to print out the classification for each species, which is given on the second line of each file. For each file, we would need to execute the command **`head -n 2`** and pipe this to **`tail -n 1`**. \n",
    "\n",
    "One would be tempted to use a wildcard **`*.dat`**.  However, this approach does not work in pipe, we only get the classification for the last file."
   ]
  },
  {
   "cell_type": "code",
   "execution_count": 7,
   "metadata": {},
   "outputs": [
    {
     "name": "stdout",
     "output_type": "stream",
     "text": [
      "CLASSIFICATION: equus monoceros\n"
     ]
    }
   ],
   "source": [
    "%%bash\n",
    "# this does not work as intended\n",
    "head -n 2 *.dat | tail -n 1"
   ]
  },
  {
   "cell_type": "markdown",
   "metadata": {},
   "source": [
    "We’ll use a loop to solve this problem, before we do so, let’s look at the general form of a loop:\n",
    "\n",
    "```\n",
    "for thing in list_of_things\n",
    "do\n",
    "    operation_using $thing\n",
    "done\n",
    "\n",
    "```\n",
    "Note that the loop construct takes four lines and it contains compulsory keywords - **`for`**, **`in`**, **`do`** and **`done`**. When the shell sees the keyword **`for`**, it knows to repeat a command (or commands) in the body of the loop (indented above) once for each item in a list. Each time the loop runs (an iteration), an item in the list is assigned in sequence to the variable (called \"thing\" above), and the commands inside the loop are executed, before moving on to the next item in the list. \n",
    "\n",
    "Inside the loop, we call for the variable’s value by putting **`$`** in front of it. The symbol **`$`** tells the shell interpreter to treat what follows as a variable name and substitute a value in its place.\n",
    "\n",
    "A loop can be written on a single line as well:\n",
    "\n",
    "```\n",
    "for thing in list_of_things; do operation_using $thing ; done\n",
    "\n",
    "```"
   ]
  },
  {
   "cell_type": "markdown",
   "metadata": {},
   "source": [
    "Using a loop, we can print out the second line from every **`.dat`** file."
   ]
  },
  {
   "cell_type": "code",
   "execution_count": 8,
   "metadata": {},
   "outputs": [
    {
     "name": "stdout",
     "output_type": "stream",
     "text": [
      "CLASSIFICATION: basiliscus vulgaris\n",
      "CLASSIFICATION: bos hominus\n",
      "CLASSIFICATION: equus monoceros\n"
     ]
    }
   ],
   "source": [
    "%%bash\n",
    "for filename in basilisk.dat minotaur.dat unicorn.dat\n",
    "do\n",
    "    head -n 2 $filename | tail -n 1\n",
    "done"
   ]
  },
  {
   "cell_type": "markdown",
   "metadata": {},
   "source": [
    "Loops also work with wildcards."
   ]
  },
  {
   "cell_type": "code",
   "execution_count": 9,
   "metadata": {},
   "outputs": [
    {
     "name": "stdout",
     "output_type": "stream",
     "text": [
      "CLASSIFICATION: basiliscus vulgaris\n",
      "CLASSIFICATION: bos hominus\n",
      "CLASSIFICATION: equus monoceros\n"
     ]
    }
   ],
   "source": [
    "%%bash\n",
    "for filename in *.dat\n",
    "do \n",
    "   head -n 2 $filename | tail -n 1\n",
    "done"
   ]
  },
  {
   "cell_type": "markdown",
   "metadata": {},
   "source": [
    "The variable name can be changed.  One should follow good practice and choose variable names that are informative."
   ]
  },
  {
   "cell_type": "code",
   "execution_count": 10,
   "metadata": {},
   "outputs": [
    {
     "name": "stdout",
     "output_type": "stream",
     "text": [
      "CLASSIFICATION: basiliscus vulgaris\n",
      "CLASSIFICATION: bos hominus\n",
      "CLASSIFICATION: equus monoceros\n"
     ]
    }
   ],
   "source": [
    "%%bash\n",
    "for creature in *.dat\n",
    "do \n",
    "   head -n 2 $creature | tail -n 1\n",
    "done"
   ]
  },
  {
   "cell_type": "markdown",
   "metadata": {},
   "source": [
    "One can follow the progress of a loop by printing out the value of the loop variable in each iteration with **`echo`**. "
   ]
  },
  {
   "cell_type": "code",
   "execution_count": 13,
   "metadata": {},
   "outputs": [
    {
     "name": "stdout",
     "output_type": "stream",
     "text": [
      "basilisk.dat\n",
      "CLASSIFICATION: basiliscus vulgaris\n",
      "minotaur.dat\n",
      "CLASSIFICATION: bos hominus\n",
      "unicorn.dat\n",
      "CLASSIFICATION: equus monoceros\n"
     ]
    }
   ],
   "source": [
    "%%bash\n",
    "for filename in *.dat\n",
    "do \n",
    "   echo $filename\n",
    "   head -n 2 $filename | tail -n 1\n",
    "done"
   ]
  },
  {
   "cell_type": "markdown",
   "metadata": {},
   "source": [
    "## File names with spaces\n",
    "\n",
    "Be very careful with loops that iterate through a list of files names that have spaces, these may be interpreted as separate files; e.g. **`purple unicorn.dat`** could be considered as two files named **`purple`** and **`unicorn.dat`**.  The problem can be avoided by surrounding the file name with quotes.\n",
    "\n",
    "```\n",
    "for filename in \"purple unicorn.dat\" \"green basilisk.dat\"\n",
    "do\n",
    "  echo $filename\n",
    "done\n",
    "\n",
    "```"
   ]
  },
  {
   "cell_type": "markdown",
   "metadata": {},
   "source": [
    "## Save a copy of every .dat file\n",
    "<hr style=\"border: solid 1px gray; margin-top: 1.5% \">\n",
    "\n",
    "The next task is to make a copy of every .dat file and save it under a new name.  For example, a copy of **`unicorn.dat`** should be saved as **`original-unicorn.dat`**.\n",
    "\n",
    "Similarly to using **`head`** in an example above, we cannot resort to using the copy command with a wildcard; **`cp *.dat original-*.dat`** will not work because the wildcard will be expanded first. Next, the command that the shell will try to execute will look as follows **`cp basilisk.dat minotaur.dat unicorn.dat original-*.dat`** and it will produce an error. The only way that **`copy`** works with more than two arguments is if the last argument is a valid directory name (this would not accomplish our task anyway).\n",
    "\n"
   ]
  },
  {
   "cell_type": "code",
   "execution_count": 14,
   "metadata": {},
   "outputs": [
    {
     "name": "stderr",
     "output_type": "stream",
     "text": [
      "usage: cp [-R [-H | -L | -P]] [-fi | -n] [-apvXc] source_file target_file\n",
      "       cp [-R [-H | -L | -P]] [-fi | -n] [-apvXc] source_file ... target_directory\n"
     ]
    },
    {
     "ename": "CalledProcessError",
     "evalue": "Command 'b'# this does not work\\ncp *.dat original-*.dat\\n'' returned non-zero exit status 64.",
     "output_type": "error",
     "traceback": [
      "\u001b[0;31m---------------------------------------------------------------------------\u001b[0m",
      "\u001b[0;31mCalledProcessError\u001b[0m                        Traceback (most recent call last)",
      "\u001b[0;32m<ipython-input-14-9bcaa368f6d2>\u001b[0m in \u001b[0;36m<module>\u001b[0;34m\u001b[0m\n\u001b[0;32m----> 1\u001b[0;31m \u001b[0mget_ipython\u001b[0m\u001b[0;34m(\u001b[0m\u001b[0;34m)\u001b[0m\u001b[0;34m.\u001b[0m\u001b[0mrun_cell_magic\u001b[0m\u001b[0;34m(\u001b[0m\u001b[0;34m'bash'\u001b[0m\u001b[0;34m,\u001b[0m \u001b[0;34m''\u001b[0m\u001b[0;34m,\u001b[0m \u001b[0;34m'# this does not work\\ncp *.dat original-*.dat\\n'\u001b[0m\u001b[0;34m)\u001b[0m\u001b[0;34m\u001b[0m\u001b[0;34m\u001b[0m\u001b[0m\n\u001b[0m",
      "\u001b[0;32m/opt/anaconda3/lib/python3.8/site-packages/IPython/core/interactiveshell.py\u001b[0m in \u001b[0;36mrun_cell_magic\u001b[0;34m(self, magic_name, line, cell)\u001b[0m\n\u001b[1;32m   2369\u001b[0m             \u001b[0;32mwith\u001b[0m \u001b[0mself\u001b[0m\u001b[0;34m.\u001b[0m\u001b[0mbuiltin_trap\u001b[0m\u001b[0;34m:\u001b[0m\u001b[0;34m\u001b[0m\u001b[0;34m\u001b[0m\u001b[0m\n\u001b[1;32m   2370\u001b[0m                 \u001b[0margs\u001b[0m \u001b[0;34m=\u001b[0m \u001b[0;34m(\u001b[0m\u001b[0mmagic_arg_s\u001b[0m\u001b[0;34m,\u001b[0m \u001b[0mcell\u001b[0m\u001b[0;34m)\u001b[0m\u001b[0;34m\u001b[0m\u001b[0;34m\u001b[0m\u001b[0m\n\u001b[0;32m-> 2371\u001b[0;31m                 \u001b[0mresult\u001b[0m \u001b[0;34m=\u001b[0m \u001b[0mfn\u001b[0m\u001b[0;34m(\u001b[0m\u001b[0;34m*\u001b[0m\u001b[0margs\u001b[0m\u001b[0;34m,\u001b[0m \u001b[0;34m**\u001b[0m\u001b[0mkwargs\u001b[0m\u001b[0;34m)\u001b[0m\u001b[0;34m\u001b[0m\u001b[0;34m\u001b[0m\u001b[0m\n\u001b[0m\u001b[1;32m   2372\u001b[0m             \u001b[0;32mreturn\u001b[0m \u001b[0mresult\u001b[0m\u001b[0;34m\u001b[0m\u001b[0;34m\u001b[0m\u001b[0m\n\u001b[1;32m   2373\u001b[0m \u001b[0;34m\u001b[0m\u001b[0m\n",
      "\u001b[0;32m/opt/anaconda3/lib/python3.8/site-packages/IPython/core/magics/script.py\u001b[0m in \u001b[0;36mnamed_script_magic\u001b[0;34m(line, cell)\u001b[0m\n\u001b[1;32m    140\u001b[0m             \u001b[0;32melse\u001b[0m\u001b[0;34m:\u001b[0m\u001b[0;34m\u001b[0m\u001b[0;34m\u001b[0m\u001b[0m\n\u001b[1;32m    141\u001b[0m                 \u001b[0mline\u001b[0m \u001b[0;34m=\u001b[0m \u001b[0mscript\u001b[0m\u001b[0;34m\u001b[0m\u001b[0;34m\u001b[0m\u001b[0m\n\u001b[0;32m--> 142\u001b[0;31m             \u001b[0;32mreturn\u001b[0m \u001b[0mself\u001b[0m\u001b[0;34m.\u001b[0m\u001b[0mshebang\u001b[0m\u001b[0;34m(\u001b[0m\u001b[0mline\u001b[0m\u001b[0;34m,\u001b[0m \u001b[0mcell\u001b[0m\u001b[0;34m)\u001b[0m\u001b[0;34m\u001b[0m\u001b[0;34m\u001b[0m\u001b[0m\n\u001b[0m\u001b[1;32m    143\u001b[0m \u001b[0;34m\u001b[0m\u001b[0m\n\u001b[1;32m    144\u001b[0m         \u001b[0;31m# write a basic docstring:\u001b[0m\u001b[0;34m\u001b[0m\u001b[0;34m\u001b[0m\u001b[0;34m\u001b[0m\u001b[0m\n",
      "\u001b[0;32m<decorator-gen-110>\u001b[0m in \u001b[0;36mshebang\u001b[0;34m(self, line, cell)\u001b[0m\n",
      "\u001b[0;32m/opt/anaconda3/lib/python3.8/site-packages/IPython/core/magic.py\u001b[0m in \u001b[0;36m<lambda>\u001b[0;34m(f, *a, **k)\u001b[0m\n\u001b[1;32m    185\u001b[0m     \u001b[0;31m# but it's overkill for just that one bit of state.\u001b[0m\u001b[0;34m\u001b[0m\u001b[0;34m\u001b[0m\u001b[0;34m\u001b[0m\u001b[0m\n\u001b[1;32m    186\u001b[0m     \u001b[0;32mdef\u001b[0m \u001b[0mmagic_deco\u001b[0m\u001b[0;34m(\u001b[0m\u001b[0marg\u001b[0m\u001b[0;34m)\u001b[0m\u001b[0;34m:\u001b[0m\u001b[0;34m\u001b[0m\u001b[0;34m\u001b[0m\u001b[0m\n\u001b[0;32m--> 187\u001b[0;31m         \u001b[0mcall\u001b[0m \u001b[0;34m=\u001b[0m \u001b[0;32mlambda\u001b[0m \u001b[0mf\u001b[0m\u001b[0;34m,\u001b[0m \u001b[0;34m*\u001b[0m\u001b[0ma\u001b[0m\u001b[0;34m,\u001b[0m \u001b[0;34m**\u001b[0m\u001b[0mk\u001b[0m\u001b[0;34m:\u001b[0m \u001b[0mf\u001b[0m\u001b[0;34m(\u001b[0m\u001b[0;34m*\u001b[0m\u001b[0ma\u001b[0m\u001b[0;34m,\u001b[0m \u001b[0;34m**\u001b[0m\u001b[0mk\u001b[0m\u001b[0;34m)\u001b[0m\u001b[0;34m\u001b[0m\u001b[0;34m\u001b[0m\u001b[0m\n\u001b[0m\u001b[1;32m    188\u001b[0m \u001b[0;34m\u001b[0m\u001b[0m\n\u001b[1;32m    189\u001b[0m         \u001b[0;32mif\u001b[0m \u001b[0mcallable\u001b[0m\u001b[0;34m(\u001b[0m\u001b[0marg\u001b[0m\u001b[0;34m)\u001b[0m\u001b[0;34m:\u001b[0m\u001b[0;34m\u001b[0m\u001b[0;34m\u001b[0m\u001b[0m\n",
      "\u001b[0;32m/opt/anaconda3/lib/python3.8/site-packages/IPython/core/magics/script.py\u001b[0m in \u001b[0;36mshebang\u001b[0;34m(self, line, cell)\u001b[0m\n\u001b[1;32m    243\u001b[0m             \u001b[0msys\u001b[0m\u001b[0;34m.\u001b[0m\u001b[0mstderr\u001b[0m\u001b[0;34m.\u001b[0m\u001b[0mflush\u001b[0m\u001b[0;34m(\u001b[0m\u001b[0;34m)\u001b[0m\u001b[0;34m\u001b[0m\u001b[0;34m\u001b[0m\u001b[0m\n\u001b[1;32m    244\u001b[0m         \u001b[0;32mif\u001b[0m \u001b[0margs\u001b[0m\u001b[0;34m.\u001b[0m\u001b[0mraise_error\u001b[0m \u001b[0;32mand\u001b[0m \u001b[0mp\u001b[0m\u001b[0;34m.\u001b[0m\u001b[0mreturncode\u001b[0m\u001b[0;34m!=\u001b[0m\u001b[0;36m0\u001b[0m\u001b[0;34m:\u001b[0m\u001b[0;34m\u001b[0m\u001b[0;34m\u001b[0m\u001b[0m\n\u001b[0;32m--> 245\u001b[0;31m             \u001b[0;32mraise\u001b[0m \u001b[0mCalledProcessError\u001b[0m\u001b[0;34m(\u001b[0m\u001b[0mp\u001b[0m\u001b[0;34m.\u001b[0m\u001b[0mreturncode\u001b[0m\u001b[0;34m,\u001b[0m \u001b[0mcell\u001b[0m\u001b[0;34m,\u001b[0m \u001b[0moutput\u001b[0m\u001b[0;34m=\u001b[0m\u001b[0mout\u001b[0m\u001b[0;34m,\u001b[0m \u001b[0mstderr\u001b[0m\u001b[0;34m=\u001b[0m\u001b[0merr\u001b[0m\u001b[0;34m)\u001b[0m\u001b[0;34m\u001b[0m\u001b[0;34m\u001b[0m\u001b[0m\n\u001b[0m\u001b[1;32m    246\u001b[0m \u001b[0;34m\u001b[0m\u001b[0m\n\u001b[1;32m    247\u001b[0m     \u001b[0;32mdef\u001b[0m \u001b[0m_run_script\u001b[0m\u001b[0;34m(\u001b[0m\u001b[0mself\u001b[0m\u001b[0;34m,\u001b[0m \u001b[0mp\u001b[0m\u001b[0;34m,\u001b[0m \u001b[0mcell\u001b[0m\u001b[0;34m,\u001b[0m \u001b[0mto_close\u001b[0m\u001b[0;34m)\u001b[0m\u001b[0;34m:\u001b[0m\u001b[0;34m\u001b[0m\u001b[0;34m\u001b[0m\u001b[0m\n",
      "\u001b[0;31mCalledProcessError\u001b[0m: Command 'b'# this does not work\\ncp *.dat original-*.dat\\n'' returned non-zero exit status 64."
     ]
    }
   ],
   "source": [
    "%%bash\n",
    "# this does not work\n",
    "cp *.dat original-*.dat"
   ]
  },
  {
   "cell_type": "markdown",
   "metadata": {},
   "source": [
    "We must use a loop for this task.  When preparing a loop that executes many commands, it is a good practice to use a \"dry run\" first. Instead of executing the body of the loop when testing, one can only print the intended command; for example **`cp $filename original-$filename`** will become **`echo \"cp $filename original-$filename\"`**.\n",
    "\n",
    "Note: The copy command uses the following construct **`original-$filename`** to add a plain text to a variable in order to create a new filename (e.g., original-unicorn.dat). Since the plain text goes in front of the variable name, this is safe.  The other way around **`$filename-original`** could be problematic, the shell may not be able to tell where the variable name ends.  In this case, we would have to use curly braces to clearly delimit the variable name - **`${filename}-original`**."
   ]
  },
  {
   "cell_type": "code",
   "execution_count": 15,
   "metadata": {},
   "outputs": [
    {
     "name": "stdout",
     "output_type": "stream",
     "text": [
      "cp basilisk.dat original-basilisk.dat\n",
      "cp minotaur.dat original-minotaur.dat\n",
      "cp unicorn.dat original-unicorn.dat\n"
     ]
    }
   ],
   "source": [
    "%%bash\n",
    "for filename in *.dat\n",
    "do \n",
    "  echo \"cp $filename original-$filename\"\n",
    "done"
   ]
  },
  {
   "cell_type": "markdown",
   "metadata": {},
   "source": [
    "## Practice\n",
    "\n",
    "In the cell below, remove **`echo`** so that the loop executes the copy commands. Check the results."
   ]
  },
  {
   "cell_type": "code",
   "execution_count": 16,
   "metadata": {},
   "outputs": [
    {
     "name": "stderr",
     "output_type": "stream",
     "text": [
      "UsageError: %%bash is a cell magic, but the cell body is empty.\n"
     ]
    }
   ],
   "source": [
    "%%bash\n"
   ]
  },
  {
   "cell_type": "markdown",
   "metadata": {},
   "source": [
    "## Exercise 1\n",
    "\n",
    "Switch the current working directory to **`data-shell/molecules`**.\n"
   ]
  },
  {
   "cell_type": "code",
   "execution_count": null,
   "metadata": {
    "collapsed": true
   },
   "outputs": [],
   "source": [
    "cd ../molecules"
   ]
  },
  {
   "cell_type": "markdown",
   "metadata": {},
   "source": [
    "What will be the output of the following loop?\n",
    "\n",
    "```\n",
    "for datafile in *.pdb\n",
    "do\n",
    "    cat $datafile >> all.pdb\n",
    "done\n",
    "\n",
    "```\n",
    "\n",
    "1. All of the text from cubane.pdb, ethane.pdb, methane.pdb, octane.pdb, and pentane.pdb would be concatenated and saved to a file called all.pdb.\n",
    "2. The text from ethane.pdb will be saved to a file called all.pdb.\n",
    "3. All of the text from cubane.pdb, ethane.pdb, methane.pdb, octane.pdb, pentane.pdb and propane.pdb would be concatenated and saved to a file called all.pdb.\n",
    "4. All of the text from cubane.pdb, ethane.pdb, methane.pdb, octane.pdb, pentane.pdb and propane.pdb would be printed to the screen and saved to a file called all.pdb.\n",
    "\n",
    "\n",
    "The solution can be found at the end of this notebook.\n"
   ]
  },
  {
   "cell_type": "markdown",
   "metadata": {},
   "source": [
    "<hr style=\"border: solid 1px red; margin-top: 1.5% \">\n",
    "\n",
    "## Key points\n",
    "\n",
    "- A for loop repeats commands once for every thing in a list.\n",
    "- Every for loop needs a variable to refer to the thing it is currently operating on.\n",
    "- Use **`$name`** to expand a variable (i.e., get its value). **`${name}`** can also be used.\n",
    "- Do not use spaces, quotes, or wildcard characters in filenames, as it complicates variable expansion.\n",
    "- Give files consistent names that are easy to match with wildcard patterns to make it easy to select them for looping."
   ]
  },
  {
   "cell_type": "markdown",
   "metadata": {},
   "source": [
    "<hr style=\"border: solid 1px gray; margin-top: 1.5% \">\n",
    "\n",
    "### Solution to Exercise 1:\n",
    "\n",
    "3 is the correct answer. >> appends to a file, rather than overwriting it with the redirected output from a command. Given the output from the cat command has been redirected, nothing is printed to the screen."
   ]
  }
 ],
 "metadata": {
  "kernelspec": {
   "display_name": "Python 3",
   "language": "python",
   "name": "python3"
  },
  "language_info": {
   "codemirror_mode": {
    "name": "ipython",
    "version": 3
   },
   "file_extension": ".py",
   "mimetype": "text/x-python",
   "name": "python",
   "nbconvert_exporter": "python",
   "pygments_lexer": "ipython3",
   "version": "3.8.3"
  }
 },
 "nbformat": 4,
 "nbformat_minor": 2
}
