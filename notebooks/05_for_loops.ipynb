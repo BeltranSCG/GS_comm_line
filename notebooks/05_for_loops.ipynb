{
 "cells": [
  {
   "cell_type": "markdown",
   "metadata": {},
   "source": [
    "# Episode 5 - Loops\n",
    "This notebook is based on a snapshot of [Episode 5](https://kmichali.github.io/SC-shell-novice/05-loop/index.html) of the [Unix Shell lesson](https://kmichali.github.io/SC-shell-novice/) from the [Software Carpentry](https://software-carpentry.org). The original material has more detail.\n",
    "\n",
    "### Questions:\n",
    "- How can I perform the same actions on many different files?\n",
    "\n",
    "### Objectives:\n",
    "- Write a loop that applies one or more commands separately to each file in a set of files.\n",
    "- Trace the values taken on by a loop variable during execution of the loop.\n",
    "- Explain the difference between a variable’s name and its value.\n",
    "- Explain why spaces and some punctuation characters shouldn’t be used in file names.\n",
    "\n",
    "<hr style=\"border: solid 1px red; margin-top: 1.5% \">"
   ]
  },
  {
   "cell_type": "markdown",
   "metadata": {},
   "source": [
    "Loops are a programming construct which allow us to repeat a command or set of commands for each item in a list. As such they are key to productivity improvements through automation. Similar to wildcards, using loops also reduces the amount of typing required (and hence reduces the number of typing mistakes).\n",
    "\n",
    "Suppose we have several hundred genome data files (e.g., basilisk.dat, minotaur.dat, and unicorn.dat). For this example, we’ll use the **`creatures`** directory which only has three example files, but the principles can be applied to many many more files at once.\n",
    "\n",
    "The structure of these files is the same: the common name, classification, and updated date are presented on the first three lines, with DNA sequences on the following lines. Let’s look at the files:"
   ]
  },
  {
   "cell_type": "code",
   "execution_count": 8,
   "metadata": {},
   "outputs": [
    {
     "name": "stdout",
     "output_type": "stream",
     "text": [
      "/Users/katerina/GS_comm_line/notebooks/data-shell/creatures\n"
     ]
    }
   ],
   "source": [
    "cd data-shell/creatures"
   ]
  },
  {
   "cell_type": "code",
   "execution_count": 2,
   "metadata": {},
   "outputs": [
    {
     "name": "stdout",
     "output_type": "stream",
     "text": [
      "==> basilisk.dat <==\n",
      "COMMON NAME: basilisk\n",
      "CLASSIFICATION: basiliscus vulgaris\n",
      "UPDATED: 1745-05-02\n",
      "CCCCAACGAG\n",
      "GAAACAGATC\n",
      "\n",
      "==> minotaur.dat <==\n",
      "COMMON NAME: minotaur\n",
      "CLASSIFICATION: bos hominus\n",
      "UPDATED: 1765-02-17\n",
      "CCCGAAGGAC\n",
      "CGACATCTCT\n",
      "\n",
      "==> unicorn.dat <==\n",
      "COMMON NAME: unicorn\n",
      "CLASSIFICATION: equus monoceros\n",
      "UPDATED: 1738-11-24\n",
      "AGCCGGGTCG\n",
      "CTTTACCTTA\n"
     ]
    }
   ],
   "source": [
    "%%bash\n",
    "head -n 5 *.dat"
   ]
  },
  {
   "cell_type": "markdown",
   "metadata": {},
   "source": [
    "## Print second line from every file\n",
    "<hr style=\"border: solid 1px gray; margin-top: 1.5% \">\n",
    "\n",
    "We would like to print out the classification for each species, which is given on the second line of each file. For each file, we would need to execute the command head -n 2 and pipe this to tail -n 1. \n",
    "\n",
    "One would be tempted to use wildcard.  However, this approach does not work in pipe, we only get the classification for the last file."
   ]
  },
  {
   "cell_type": "code",
   "execution_count": 4,
   "metadata": {},
   "outputs": [
    {
     "name": "stdout",
     "output_type": "stream",
     "text": [
      "CLASSIFICATION: equus monoceros\n"
     ]
    }
   ],
   "source": [
    "%%bash\n",
    "# this does not work as intended\n",
    "head -n 2 *.dat | tail -n 1"
   ]
  },
  {
   "cell_type": "markdown",
   "metadata": {},
   "source": [
    "We’ll use a loop to solve this problem, but first let’s look at the general form of a loop:\n",
    "\n",
    "```\n",
    "for thing in list_of_things\n",
    "do\n",
    "    operation_using $thing    # Indentation within the loop is not required, but aids legibility\n",
    "done\n",
    "\n",
    "```\n",
    "Note that the loop construct takes four lines and it contains compulsory keywords - **`for`**, **`in`**, **`do`** and **`done`**. When the shell sees the keyword **`for`**, it knows to repeat a command (or commands) in the body of the loop (indented above) once for each item in a list. Each time the loop runs (called an iteration), an item in the list is assigned in sequence to the variable (called \"thing\" above), and the commands inside the loop are executed, before moving on to the next item in the list. \n",
    "\n",
    "Inside the loop, we call for the variable’s value by putting **`\\$`** in front of it. The **`\\$`** tells the shell interpreter to treat the variable as a variable name and substitute its value in its place, rather than treat it as text or an external command.\n",
    "\n",
    "A loop can be written on a single line as well:\n",
    "\n",
    "```\n",
    "for thing in list_of_things; do operation_using $thing ; done\n",
    "\n",
    "```"
   ]
  },
  {
   "cell_type": "markdown",
   "metadata": {},
   "source": [
    "Using a loop, we can print out the second line from every **`.dat`** file."
   ]
  },
  {
   "cell_type": "code",
   "execution_count": 5,
   "metadata": {},
   "outputs": [
    {
     "name": "stdout",
     "output_type": "stream",
     "text": [
      "CLASSIFICATION: basiliscus vulgaris\n",
      "CLASSIFICATION: bos hominus\n",
      "CLASSIFICATION: equus monoceros\n"
     ]
    }
   ],
   "source": [
    "%%bash\n",
    "for filename in basilisk.dat minotaur.dat unicorn.dat\n",
    "do\n",
    "    head -n 2 $filename | tail -n 1\n",
    "done"
   ]
  },
  {
   "cell_type": "markdown",
   "metadata": {},
   "source": [
    "Loops also work with wildcards."
   ]
  },
  {
   "cell_type": "code",
   "execution_count": 10,
   "metadata": {},
   "outputs": [
    {
     "name": "stdout",
     "output_type": "stream",
     "text": [
      "CLASSIFICATION: basiliscus vulgaris\n",
      "CLASSIFICATION: bos hominus\n",
      "CLASSIFICATION: equus monoceros\n"
     ]
    }
   ],
   "source": [
    "%%bash\n",
    "for filename in *.dat\n",
    "do \n",
    "   head -n 2 $filename | tail -n 1\n",
    "done"
   ]
  },
  {
   "cell_type": "markdown",
   "metadata": {},
   "source": [
    "The variable name can be changed but should be informative."
   ]
  },
  {
   "cell_type": "code",
   "execution_count": 11,
   "metadata": {},
   "outputs": [
    {
     "name": "stdout",
     "output_type": "stream",
     "text": [
      "CLASSIFICATION: basiliscus vulgaris\n",
      "CLASSIFICATION: bos hominus\n",
      "CLASSIFICATION: equus monoceros\n"
     ]
    }
   ],
   "source": [
    "%%bash\n",
    "for creature in *.dat\n",
    "do \n",
    "   head -n 2 $creature | tail -n 1\n",
    "done"
   ]
  },
  {
   "cell_type": "markdown",
   "metadata": {},
   "source": [
    "One can follow the progress of a loop by printing out the value of the loop variable in each iteration with **`echo`**. "
   ]
  },
  {
   "cell_type": "code",
   "execution_count": 12,
   "metadata": {},
   "outputs": [
    {
     "name": "stdout",
     "output_type": "stream",
     "text": [
      "basilisk.dat\n",
      "CLASSIFICATION: basiliscus vulgaris\n",
      "minotaur.dat\n",
      "CLASSIFICATION: bos hominus\n",
      "unicorn.dat\n",
      "CLASSIFICATION: equus monoceros\n"
     ]
    }
   ],
   "source": [
    "%%bash\n",
    "for filename in *.dat\n",
    "do \n",
    "   echo $filename\n",
    "   head -n 2 $filename | tail -n 1\n",
    "done"
   ]
  },
  {
   "cell_type": "markdown",
   "metadata": {},
   "source": [
    "Be very careful with loops that iterate through list of files names that have spaces, these may be interpreted as two separate files; e.g. **`purple unicorn.dat`** could be considered as two files named **`purple`** and **`unicorn.dat`**.  The problem can be avoided by surrounding the file name with quotes."
   ]
  },
  {
   "cell_type": "markdown",
   "metadata": {},
   "source": [
    "## Save a copy of every .dat file\n",
    "<hr style=\"border: solid 1px gray; margin-top: 1.5% \">\n",
    "\n",
    "The next task is to make a copy of every .dat file and save it under a new name.  For example, a copy of **`unicorn.dat`** will be saved as **`original-unicorn.dat`**.\n",
    "\n",
    "Similarly to using head in an example above, we cannot resort to using the copy command with a wildcard (**`*.dat`**); **`cp *.dat original-*.dat`** will not work because the wildcard will be expanded first. The command that the shell will try to execute will look as follows **`cp basilisk.dat minotaur.dat unicorn.dat original-*.dat`**; the only way that **`copy`** could work with multiple arguments is if the last argument is a valid directory name (this would not accomplish our task though).\n",
    "\n"
   ]
  },
  {
   "cell_type": "code",
   "execution_count": 15,
   "metadata": {},
   "outputs": [
    {
     "name": "stderr",
     "output_type": "stream",
     "text": [
      "usage: cp [-R [-H | -L | -P]] [-fi | -n] [-apvXc] source_file target_file\n",
      "       cp [-R [-H | -L | -P]] [-fi | -n] [-apvXc] source_file ... target_directory\n"
     ]
    }
   ],
   "source": [
    "%%bash\n",
    "cp *.dat original-*.dat"
   ]
  },
  {
   "cell_type": "markdown",
   "metadata": {},
   "source": [
    "We must use a loop for this task.  It is a good practice to use a \"dry run\" first. Instead of executing the body of the loop, one can print the command to make sure that the loop will do what was intended; for example **`cp $filename original-$filename`** will become **`echo \"cp $filename original-$fi\n",
    "lename\"`**.\n",
    "\n",
    "Note: The copy command uses the following construct **`original-$filename`** to add a plain text to a variable in order to create a new filename (e.g., original-unicorn.dat). Since the plain text goes in front of the variable name, it is safe.  The other way around **`$filename-original`** could be problematic, the shell may not be able to tell where the variable name ends.  In this case, we have to use curly braces to clearly delimit the variable name - **`${filename}-original`**."
   ]
  },
  {
   "cell_type": "code",
   "execution_count": 14,
   "metadata": {},
   "outputs": [
    {
     "name": "stdout",
     "output_type": "stream",
     "text": [
      "cp basilisk.dat original-basilisk.dat\n",
      "cp minotaur.dat original-minotaur.dat\n",
      "cp unicorn.dat original-unicorn.dat\n"
     ]
    }
   ],
   "source": [
    "%%bash\n",
    "for filename in *.dat\n",
    "do \n",
    "  echo \"cp $filename original-$filename\"\n",
    "done"
   ]
  },
  {
   "cell_type": "code",
   "execution_count": null,
   "metadata": {
    "collapsed": true
   },
   "outputs": [],
   "source": []
  }
 ],
 "metadata": {
  "kernelspec": {
   "display_name": "Python [default]",
   "language": "python",
   "name": "python3"
  },
  "language_info": {
   "codemirror_mode": {
    "name": "ipython",
    "version": 3
   },
   "file_extension": ".py",
   "mimetype": "text/x-python",
   "name": "python",
   "nbconvert_exporter": "python",
   "pygments_lexer": "ipython3",
   "version": "3.6.7"
  }
 },
 "nbformat": 4,
 "nbformat_minor": 2
}
