{
 "cells": [
  {
   "cell_type": "markdown",
   "metadata": {},
   "source": [
    "# Episode 6 - Shell scripts\n",
    "This notebook is based on a snapshot of [Episode 6]() of the [Unix Shell lesson](https://kmichali.github.io/SC-shell-novice/06-script/index.html) from the [Software Carpentry](https://software-carpentry.org). The original material has more detail.\n",
    "\n",
    "### Questions:\n",
    "- How can I save and re-use commands?\n",
    "\n",
    "### Objectives:\n",
    "- Write a shell script that runs a command or series of commands for a fixed set of files.\n",
    "- Run a shell script from the command line.\n",
    "- Write a shell script that operates on a set of files defined by the user on the command line.\n",
    "- Create pipelines that include shell scripts you, and others, have written.\n",
    "\n",
    "<hr style=\"border: solid 1px red; margin-top: 1.5% \">"
   ]
  },
  {
   "cell_type": "markdown",
   "metadata": {},
   "source": [
    "We are finally ready to see what makes the shell such a powerful programming environment. We are going to take the commands we repeat frequently and save them in files so that we can re-run all those operations again later by typing a single command. A list of commands saved in a file is usually called a **shell script**."
   ]
  },
  {
   "cell_type": "markdown",
   "metadata": {},
   "source": [
    "## Move to the shell\n",
    "<hr style=\"border: solid 1px gray; margin-top: 1.5% \">\n",
    "\n",
    "For this lesson, we will move to the command line.  You can either:\n",
    "- open the Terminal application on Mac or Linux\n",
    "- on Windows, you can either use [Windows subsystem for Linux](https://www.howtogeek.com/249966/how-to-install-and-use-the-linux-bash-shell-on-windows-10/) or take advantage of the in-built shell in [Git for Windows](https://gitforwindows.org)\n",
    "- you can also run the Terminal alongside this notebook in Anaconda; from the Anaconda home page (the page with directory listings), select New->Terminal\n"
   ]
  },
  {
   "cell_type": "markdown",
   "metadata": {},
   "source": [
    "## Tips and tricks\n",
    "<hr style=\"border: solid 1px gray; margin-top: 1.5% \">\n",
    "\n",
    "This few tricks are going to make your shell experience a bit easier:\n",
    "- to cancel a command (either after you just typed it or if it is already running), press Ctrl+c\n",
    "- use up and down arrow keys to recall commands that you used previously\n",
    "- use Ctrl+l (lower-case L) or the command **`clear`** to remove all content in the terminal (apart from the prompt)\n",
    "- use **`TAB`** key to auto-complete command and file names will save you lots of typing; for example if your directory contains a file \"chapter1.txt\", type \"c\" and press **`TAB`**:\n",
    "   - if there are no other files that start with \"c\", the shell will complete the name to \"chapter1.txt\"\n",
    "   - if another file start with \"c\", typing **`TAB`** will produce no result, if you press **`TAB`** again, you will see all files matching \"c\", in this case type a few more characters and press **`TAB`** again\n"
   ]
  },
  {
   "cell_type": "markdown",
   "metadata": {},
   "source": [
    "## Change directory to data-shell/molecules\n",
    "<hr style=\"border: solid 1px gray; margin-top: 1.5% \">\n",
    "\n",
    "When you open a terminal, it is likely that your current directory will be your home directory.  Use **`cd`** to navigate to **`some_directory_in_your_filesystem/GS_comm_line/notebooks/data-shell/molecules/`**.  If you are not sure, use your Finder or File Explorer to locate the molecules directory and to deduce the path from your home directory.\n",
    "\n",
    "If you downloaded the lesson GitHub repository to your home directory, you should be able to use the following command:\n",
    "\n",
    "```\n",
    "cd GS_comm_line/notebooks/data-shell/molecules\n",
    "\n",
    "```\n",
    "Check with **`pwd`** if you are in the right place."
   ]
  },
  {
   "cell_type": "markdown",
   "metadata": {},
   "source": [
    "## Learn to use a simple text editor to write shell scripts\n",
    "<hr style=\"border: solid 1px gray; margin-top: 1.5% \">\n",
    "\n",
    "Some of you may already have used other editors such as **`emacs`** or **`vim`**.  If you are comfortable with them, keep using them. If you have never used a command line text editor, **`nano`** is a good start.\n",
    "\n",
    "**`Nano`** will come handy when you need to edit a file on a remote system. On your laptop, you have a choice.  You can use Notepad or programmer's editors such as Atom or VSCode. Make sure that you save you script in a simple text format, other formats will include characters that the shell cannot interpret.\n",
    "\n",
    "Let's learn to use nano to write a simple shell script.  In your terminal, type \n",
    "\n",
    "```\n",
    "nano middle.sh\n",
    "\n",
    "```\n",
    "You will be faced with a simple text editor.\n",
    "\n",
    "![Nano](../fig/nano.png)\n",
    "\n",
    "As you can see, this editor is very basic.  You can write text, navigate around with arrow keys, save and exit. Enough to write a small shell script.\n",
    "\n",
    "In nano, type the line below:\n",
    "\n",
    "```\n",
    "head -n 15 octane.pdb | tail -n 5\n",
    "\n",
    "```\n",
    "\n",
    "![Nano with a command](../fig/nano2.png)\n",
    "\n",
    "Make sure that you press Enter to finish the script with an empty line.  \n",
    "\n",
    "You are ready to save and exit nano.  **To save**, press Ctrl+o and Enter.  **To exit nano**, press Ctrl+x.\n",
    "\n",
    "You should get the prompt back.  Check with **`cat middle.sh`** to see if the file is correct.\n"
   ]
  },
  {
   "cell_type": "code",
   "execution_count": 4,
   "metadata": {},
   "outputs": [
    {
     "name": "stdout",
     "output_type": "stream",
     "text": [
      "head -n 15 $1 | tail -n 5\n",
      "echo $1\n",
      "\n"
     ]
    }
   ],
   "source": [
    "%%bash\n",
    "cat middle.sh"
   ]
  },
  {
   "cell_type": "markdown",
   "metadata": {},
   "source": [
    "## Run your first shell script\n",
    "<hr style=\"border: solid 1px gray; margin-top: 1.5% \">\n",
    "\n",
    "The file **`middle.sh`** is a shell script.  It is a good convention to give your shell scripts an extention \"sh\" (for \"shell\"). \n",
    "\n",
    "Now, you are ready to execute (or to run) the script.  You can do this on the command line by typing:\n",
    "\n",
    "```\n",
    "bash middle.sh\n",
    "```\n",
    "\n",
    "**`Bash`** is a program that interprets the shell script.\n",
    "\n",
    "On the screen, you should see an output from the script; in our case an output to **`head -n 15 octane.pdb | tail -n 5`** or lines 10 to 15 from the file octane.pdb.\n",
    "\n",
    "```\n",
    "ATOM      9  H           1      -4.502   0.681   0.785  1.00  0.00\n",
    "ATOM     10  H           1      -5.254  -0.243  -0.537  1.00  0.00\n",
    "ATOM     11  H           1      -4.357   1.252  -0.895  1.00  0.00\n",
    "ATOM     12  H           1      -3.009  -0.741  -1.467  1.00  0.00\n",
    "ATOM     13  H           1      -3.172  -1.337   0.206  1.00  0.00\n",
    "\n",
    "```\n",
    "\n",
    "If your script contained more commands, you would see outputs from all of them.\n",
    "\n",
    "*Note: You can also run the script from this notebook in the cell below (do not forget to change the current working directory first).  You cannot, however, use **`nano`** in a notebook.*"
   ]
  },
  {
   "cell_type": "code",
   "execution_count": 1,
   "metadata": {},
   "outputs": [
    {
     "name": "stdout",
     "output_type": "stream",
     "text": [
      "/Users/katerina/GS_comm_line/notebooks\n"
     ]
    }
   ],
   "source": [
    "%%bash\n",
    "pwd"
   ]
  },
  {
   "cell_type": "code",
   "execution_count": 2,
   "metadata": {},
   "outputs": [
    {
     "name": "stdout",
     "output_type": "stream",
     "text": [
      "/Users/katerina/GS_comm_line/notebooks/data-shell/molecules\n"
     ]
    }
   ],
   "source": [
    "cd data-shell/molecules/"
   ]
  },
  {
   "cell_type": "code",
   "execution_count": 3,
   "metadata": {},
   "outputs": [
    {
     "name": "stdout",
     "output_type": "stream",
     "text": [
      "\n"
     ]
    }
   ],
   "source": [
    "%%bash\n",
    "bash middle.sh"
   ]
  },
  {
   "cell_type": "markdown",
   "metadata": {},
   "source": [
    "## Making your scripts more useful by passing arguments from the command line\n",
    "<hr style=\"border: solid 1px gray; margin-top: 1.5% \">\n",
    "\n",
    "Our script is not very useful. If operates only on one file - **`octane.pdb`**.  It would be more useful if we could choose the filename when we execute the script.  The filename would be an argument to **`middle.sh`** and the execute command would look like this:\n",
    "\n",
    "```\n",
    "bash middle.sh cubane.pdb\n",
    "```\n",
    "\n",
    "The above command would **pass the argument** (cubane.pdb) **from the command line to the shell script**.  Being able to choose the input data on the command line (instead of the script always operating on the same data) is what makes scripts powerful. The same principle applies for other programs, you would reuse one scientific software package on multiple data files.\n",
    "\n",
    "For this to work, we have to make a small change to the script.  Open nano again with **`nano middle.sh`** and change the script to:\n",
    "\n",
    "```\n",
    "head -n 15 $1 | tail -n 5\n",
    "echo $1\n",
    "\n",
    "```\n",
    "\n",
    "**\"$1\"** means \"use the first argument from the command line\", in our case \"cubane.pdb\". I also added **`echo $1`** as a second line, so the script prints the input filename.\n",
    "\n",
    "Make the change to middle.sh and run your script with: \n",
    "\n",
    "```\n",
    "bash middle.sh cubane.pdb\n",
    "```\n",
    "\n",
    "You should see the following output:\n",
    "\n",
    "```\n",
    "ATOM      9  H           1       1.410  -1.631   0.942  1.00  0.00\n",
    "ATOM     10  H           1      -0.262  -2.112  -1.024  1.00  0.00\n",
    "ATOM     11  H           1      -2.224  -0.925   0.328  1.00  0.00\n",
    "ATOM     12  H           1      -0.468  -0.501   2.315  1.00  0.00\n",
    "ATOM     13  H           1       2.224   0.892  -0.134  1.00  0.00\n",
    "cubane.pdb\n",
    "```\n",
    "\n",
    "You can run the script with other filenames, the output should change."
   ]
  },
  {
   "cell_type": "markdown",
   "metadata": {},
   "source": []
  }
 ],
 "metadata": {
  "kernelspec": {
   "display_name": "Python [default]",
   "language": "python",
   "name": "python3"
  },
  "language_info": {
   "codemirror_mode": {
    "name": "ipython",
    "version": 3
   },
   "file_extension": ".py",
   "mimetype": "text/x-python",
   "name": "python",
   "nbconvert_exporter": "python",
   "pygments_lexer": "ipython3",
   "version": "3.6.7"
  }
 },
 "nbformat": 4,
 "nbformat_minor": 2
}
