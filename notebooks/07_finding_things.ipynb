{
 "cells": [
  {
   "cell_type": "markdown",
   "metadata": {},
   "source": [
    "# Episode 7 - Finding things\n",
    "This notebook is based on a snapshot of [Episode 7](https://kmichali.github.io/SC-shell-novice/07-find/index.html) of the [Unix Shell lesson](https://kmichali.github.io/SC-shell-novice/) from the [Software Carpentry](https://software-carpentry.org). The original material has more detail.\n",
    "\n",
    "### Questions:\n",
    "- How can I find files?\n",
    "- How can I find text in files?\n",
    "\n",
    "### Objectives:\n",
    "- Use **`grep`** to select lines from text files that match simple patterns.\n",
    "- Use **`find`** to find files and directories whose names match simple patterns.\n",
    "- Use the output of one command as the command-line argument(s) to another command.\n",
    "- Explain what is meant by ‘text’ and ‘binary’ files, and why many common tools don’t handle the latter well.\n",
    "\n",
    "<hr style=\"border: solid 1px red; margin-top: 1.5% \">\n",
    "\n",
    "### Video\n",
    "Learn with video:\n",
    "- [part 1](https://imperial.cloud.panopto.eu/Panopto/Pages/Viewer.aspx?id=59575aed-9333-4f38-a2be-abd700c72bb1)\n",
    "- [part 2](https://imperial.cloud.panopto.eu/Panopto/Pages/Viewer.aspx?id=e27ad876-7821-45fb-b957-abd700cb67c2)\n",
    "\n",
    "\n",
    "### Practice data in Google Colab\n",
    "If you are viewing this notebook in Colab and have saved it in your Drive (\"File\"->\"Save a copy in Drive\"), run the cell below to download practice data."
   ]
  },
  {
   "cell_type": "code",
   "execution_count": 1,
   "metadata": {},
   "outputs": [
    {
     "name": "stdout",
     "output_type": "stream",
     "text": [
      "data already exists\n"
     ]
    }
   ],
   "source": [
    "%%bash\n",
    "[ -e data-shell ] && echo \"data already exists\" || { wget https://kmichali.github.io/SC-shell-novice/data/data-shell.zip; unzip data-shell.zip; } "
   ]
  },
  {
   "cell_type": "markdown",
   "metadata": {},
   "source": [
    "<hr style=\"border: solid 1px red; margin-top: 1.5% \">"
   ]
  },
  {
   "cell_type": "markdown",
   "metadata": {},
   "source": [
    "In the same way that many of us now use ‘Google’ as a verb meaning ‘to find’, Unix programmers often use the word ‘grep’ to describe process of matching text patterns within files."
   ]
  },
  {
   "cell_type": "markdown",
   "metadata": {},
   "source": [
    "## Matching text in files\n",
    "<hr style=\"border: solid 1px gray; margin-top: 1.5% \">\n",
    "\n",
    "**`grep`** finds and prints lines in files that match a pattern. For our examples, we will use a file that contains three haikus taken from a 1998 competition in Salon magazine. For this set of examples, we’re going to be working in the **`writing`** subdirectory:"
   ]
  },
  {
   "cell_type": "code",
   "execution_count": 2,
   "metadata": {},
   "outputs": [
    {
     "name": "stdout",
     "output_type": "stream",
     "text": [
      "/Users/beltranscg/Desktop/PhD/Year1/GS_comm_line/notebooks/data-shell/writing\n"
     ]
    }
   ],
   "source": [
    "cd data-shell/writing"
   ]
  },
  {
   "cell_type": "code",
   "execution_count": 3,
   "metadata": {},
   "outputs": [
    {
     "name": "stdout",
     "output_type": "stream",
     "text": [
      "The Tao that is seen\n",
      "Is not the true Tao, until\n",
      "You bring fresh toner.\n",
      "\n",
      "With searching comes loss\n",
      "and the presence of absence:\n",
      "\"My Thesis\" not found.\n",
      "\n",
      "Yesterday it worked\n",
      "Today it is not working\n",
      "Software is like that.\n"
     ]
    }
   ],
   "source": [
    "%%bash\n",
    "cat haiku.txt"
   ]
  },
  {
   "cell_type": "markdown",
   "metadata": {},
   "source": [
    "Let’s find lines that contain the word ‘not’:"
   ]
  },
  {
   "cell_type": "code",
   "execution_count": 4,
   "metadata": {},
   "outputs": [
    {
     "name": "stdout",
     "output_type": "stream",
     "text": [
      "Is not the true Tao, until\n",
      "\"My Thesis\" not found.\n",
      "Today it is not working\n"
     ]
    }
   ],
   "source": [
    "%%bash\n",
    "grep not haiku.txt"
   ]
  },
  {
   "cell_type": "markdown",
   "metadata": {},
   "source": [
    "By default, grep searches for a pattern in a case-sensitive way. In addition, the search pattern we have selected does not have to form a complete word, as we will see in the next example.\n",
    "\n",
    "Let’s search for the pattern: ‘The’."
   ]
  },
  {
   "cell_type": "code",
   "execution_count": 5,
   "metadata": {},
   "outputs": [
    {
     "name": "stdout",
     "output_type": "stream",
     "text": [
      "The Tao that is seen\n",
      "\"My Thesis\" not found.\n"
     ]
    }
   ],
   "source": [
    "%%bash \n",
    "grep The haiku.txt"
   ]
  },
  {
   "cell_type": "markdown",
   "metadata": {},
   "source": [
    "Two lines that include the letters ‘The’ are displayed, one of which contained our search pattern within a larger word, ‘Thesis’.\n",
    "\n",
    "To restrict matches to lines containing the word ‘The’ on its own, use grep with the **`-w`** option. This will limit matches to word boundaries (spaces, start and end of a line)."
   ]
  },
  {
   "cell_type": "code",
   "execution_count": 6,
   "metadata": {},
   "outputs": [
    {
     "name": "stdout",
     "output_type": "stream",
     "text": [
      "The Tao that is seen\n"
     ]
    }
   ],
   "source": [
    "%%bash\n",
    "grep -w The haiku.txt"
   ]
  },
  {
   "cell_type": "markdown",
   "metadata": {},
   "source": [
    "The command can be used to search for phrases.  If the search pattern contains spaces, it has to be surrounded by quotes. In fact, we can use quotes for single words as well."
   ]
  },
  {
   "cell_type": "code",
   "execution_count": 7,
   "metadata": {},
   "outputs": [
    {
     "name": "stdout",
     "output_type": "stream",
     "text": [
      "Today it is not working\n"
     ]
    }
   ],
   "source": [
    "%%bash\n",
    "grep -w \"is not\" haiku.txt"
   ]
  },
  {
   "cell_type": "markdown",
   "metadata": {},
   "source": [
    "We may wish to see the line numbers in the output; the option **`-n`** will do just that."
   ]
  },
  {
   "cell_type": "code",
   "execution_count": 8,
   "metadata": {},
   "outputs": [
    {
     "name": "stdout",
     "output_type": "stream",
     "text": [
      "5:With searching comes loss\n",
      "9:Yesterday it worked\n",
      "10:Today it is not working\n"
     ]
    }
   ],
   "source": [
    "%%bash\n",
    "grep -n it haiku.txt"
   ]
  },
  {
   "cell_type": "markdown",
   "metadata": {},
   "source": [
    "As with many other Linux commands, we can combine multiple flags.  The next example greps for \"the\" using the word boundary and line numbers flags."
   ]
  },
  {
   "cell_type": "code",
   "execution_count": 9,
   "metadata": {},
   "outputs": [
    {
     "name": "stdout",
     "output_type": "stream",
     "text": [
      "2:Is not the true Tao, until\n",
      "6:and the presence of absence:\n"
     ]
    }
   ],
   "source": [
    "%%bash\n",
    "grep -nw the haiku.txt"
   ]
  },
  {
   "cell_type": "markdown",
   "metadata": {},
   "source": [
    "We can also make the search case-insensitive with **`-i`**.  In example below, both \"the\" and \"The\" are matched."
   ]
  },
  {
   "cell_type": "code",
   "execution_count": 10,
   "metadata": {},
   "outputs": [
    {
     "name": "stdout",
     "output_type": "stream",
     "text": [
      "1:The Tao that is seen\n",
      "2:Is not the true Tao, until\n",
      "6:and the presence of absence:\n"
     ]
    }
   ],
   "source": [
    "%%bash\n",
    "grep -nwi the haiku.txt"
   ]
  },
  {
   "cell_type": "markdown",
   "metadata": {},
   "source": [
    "We may want to use the option **`-v`** to invert our search, i.e., we want to output the lines that do not contain the word \"the\"."
   ]
  },
  {
   "cell_type": "code",
   "execution_count": 11,
   "metadata": {},
   "outputs": [
    {
     "name": "stdout",
     "output_type": "stream",
     "text": [
      "1:The Tao that is seen\n",
      "3:You bring fresh toner.\n",
      "4:\n",
      "5:With searching comes loss\n",
      "7:\"My Thesis\" not found.\n",
      "8:\n",
      "9:Yesterday it worked\n",
      "10:Today it is not working\n",
      "11:Software is like that.\n"
     ]
    }
   ],
   "source": [
    "%%bash\n",
    "grep -nwv the haiku.txt"
   ]
  },
  {
   "cell_type": "markdown",
   "metadata": {},
   "source": [
    "**`grep`** has many more options, use **`man grep`** to find out."
   ]
  },
  {
   "cell_type": "code",
   "execution_count": 12,
   "metadata": {},
   "outputs": [
    {
     "name": "stdout",
     "output_type": "stream",
     "text": [
      "\n",
      "GREP(1)                   BSD General Commands Manual                  GREP(1)\n",
      "\n",
      "N\bNA\bAM\bME\bE\n",
      "     g\bgr\bre\bep\bp, e\beg\bgr\bre\bep\bp, f\bfg\bgr\bre\bep\bp, z\bzg\bgr\bre\bep\bp, z\bze\beg\bgr\bre\bep\bp, z\bzf\bfg\bgr\bre\bep\bp -- file pattern searcher\n",
      "\n",
      "S\bSY\bYN\bNO\bOP\bPS\bSI\bIS\bS\n",
      "     g\bgr\bre\bep\bp [-\b-a\bab\bbc\bcd\bdD\bDE\bEF\bFG\bGH\bHh\bhI\bIi\biJ\bJL\bLl\blm\bmn\bnO\bOo\bop\bpq\bqR\bRS\bSs\bsU\bUV\bVv\bvw\bwx\bxZ\bZ] [-\b-A\bA _\bn_\bu_\bm] [-\b-B\bB _\bn_\bu_\bm] [-\b-C\bC[_\bn_\bu_\bm]]\n",
      "          [-\b-e\be _\bp_\ba_\bt_\bt_\be_\br_\bn] [-\b-f\bf _\bf_\bi_\bl_\be] [-\b--\b-b\bbi\bin\bna\bar\bry\by-\b-f\bfi\bil\ble\bes\bs=_\bv_\ba_\bl_\bu_\be] [-\b--\b-c\bco\bol\blo\bor\br[=_\bw_\bh_\be_\bn]]\n",
      "          [-\b--\b-c\bco\bol\blo\bou\bur\br[=_\bw_\bh_\be_\bn]] [-\b--\b-c\bco\bon\bnt\bte\bex\bxt\bt[=_\bn_\bu_\bm]] [-\b--\b-l\bla\bab\bbe\bel\bl] [-\b--\b-l\bli\bin\bne\be-\b-b\bbu\buf\bff\bfe\ber\bre\bed\bd]\n",
      "          [-\b--\b-n\bnu\bul\bll\bl] [_\bp_\ba_\bt_\bt_\be_\br_\bn] [_\bf_\bi_\bl_\be _\b._\b._\b.]\n",
      "\n",
      "D\bDE\bES\bSC\bCR\bRI\bIP\bPT\bTI\bIO\bON\bN\n",
      "     The g\bgr\bre\bep\bp utility searches any given input files, selecting lines that\n",
      "     match one or more patterns.  By default, a pattern matches an input line\n",
      "     if the regular expression (RE) in the pattern matches the input line\n",
      "     without its trailing newline.  An empty expression matches every line.\n",
      "     Each input line that matches at least one of the patterns is written to\n",
      "     the standard output.\n",
      "\n",
      "     g\bgr\bre\bep\bp is used for simple patterns and basic regular expressions (BREs);\n",
      "     e\beg\bgr\bre\bep\bp can handle extended regular expressions (EREs).  See re_format(7)\n",
      "     for more information on regular expressions.  f\bfg\bgr\bre\bep\bp is quicker than both\n",
      "     g\bgr\bre\bep\bp and e\beg\bgr\bre\bep\bp, but can only handle fixed patterns (i.e. it does not\n",
      "     interpret regular expressions).  Patterns may consist of one or more\n",
      "     lines, allowing any of the pattern lines to match a portion of the input.\n",
      "\n",
      "     z\bzg\bgr\bre\bep\bp, z\bze\beg\bgr\bre\bep\bp, and z\bzf\bfg\bgr\bre\bep\bp act like g\bgr\bre\bep\bp, e\beg\bgr\bre\bep\bp, and f\bfg\bgr\bre\bep\bp, respectively,\n",
      "     but accept input files compressed with the compress(1) or gzip(1) com-\n",
      "     pression utilities.\n",
      "\n",
      "     The following options are available:\n",
      "\n",
      "     -\b-A\bA _\bn_\bu_\bm, -\b--\b-a\baf\bft\bte\ber\br-\b-c\bco\bon\bnt\bte\bex\bxt\bt=_\bn_\bu_\bm\n",
      "             Print _\bn_\bu_\bm lines of trailing context after each match.  See also\n",
      "             the -\b-B\bB and -\b-C\bC options.\n",
      "\n",
      "     -\b-a\ba, -\b--\b-t\bte\bex\bxt\bt\n",
      "             Treat all files as ASCII text.  Normally g\bgr\bre\bep\bp will simply print\n",
      "             ``Binary file ... matches'' if files contain binary characters.\n",
      "             Use of this option forces g\bgr\bre\bep\bp to output lines matching the spec-\n",
      "             ified pattern.\n",
      "\n",
      "     -\b-B\bB _\bn_\bu_\bm, -\b--\b-b\bbe\bef\bfo\bor\bre\be-\b-c\bco\bon\bnt\bte\bex\bxt\bt=_\bn_\bu_\bm\n",
      "             Print _\bn_\bu_\bm lines of leading context before each match.  See also\n",
      "             the -\b-A\bA and -\b-C\bC options.\n",
      "\n",
      "     -\b-b\bb, -\b--\b-b\bby\byt\bte\be-\b-o\bof\bff\bfs\bse\bet\bt\n",
      "             The offset in bytes of a matched pattern is displayed in front of\n",
      "             the respective matched line.\n",
      "\n",
      "     -\b-C\bC[_\bn_\bu_\bm, -\b--\b-c\bco\bon\bnt\bte\bex\bxt\bt=_\bn_\bu_\bm]\n",
      "             Print _\bn_\bu_\bm lines of leading and trailing context surrounding each\n",
      "             match.  The default is 2 and is equivalent to -\b-A\bA _\b2 -\b-B\bB _\b2.  Note:\n",
      "             no whitespace may be given between the option and its argument.\n",
      "\n",
      "     -\b-c\bc, -\b--\b-c\bco\bou\bun\bnt\bt\n",
      "             Only a count of selected lines is written to standard output.\n",
      "\n",
      "     -\b--\b-c\bco\bol\blo\bou\bur\br=[_\bw_\bh_\be_\bn, -\b--\b-c\bco\bol\blo\bor\br=[_\bw_\bh_\be_\bn]]\n",
      "             Mark up the matching text with the expression stored in\n",
      "             GREP_COLOR environment variable.  The possible values of when can\n",
      "             be `never', `always' or `auto'.\n",
      "\n",
      "     -\b-D\bD _\ba_\bc_\bt_\bi_\bo_\bn, -\b--\b-d\bde\bev\bvi\bic\bce\bes\bs=_\ba_\bc_\bt_\bi_\bo_\bn\n",
      "             Specify the demanded action for devices, FIFOs and sockets.  The\n",
      "             default action is `read', which means, that they are read as if\n",
      "             they were normal files.  If the action is set to `skip', devices\n",
      "             will be silently skipped.\n",
      "\n",
      "     -\b-d\bd _\ba_\bc_\bt_\bi_\bo_\bn, -\b--\b-d\bdi\bir\bre\bec\bct\bto\bor\bri\bie\bes\bs=_\ba_\bc_\bt_\bi_\bo_\bn\n",
      "             Specify the demanded action for directories.  It is `read' by\n",
      "             default, which means that the directories are read in the same\n",
      "             manner as normal files.  Other possible values are `skip' to\n",
      "             silently ignore the directories, and `recurse' to read them\n",
      "             recursively, which has the same effect as the -\b-R\bR and -\b-r\br option.\n",
      "\n",
      "     -\b-E\bE, -\b--\b-e\bex\bxt\bte\ben\bnd\bde\bed\bd-\b-r\bre\beg\bge\bex\bxp\bp\n",
      "             Interpret _\bp_\ba_\bt_\bt_\be_\br_\bn as an extended regular expression (i.e. force\n",
      "             g\bgr\bre\bep\bp to behave as e\beg\bgr\bre\bep\bp).\n",
      "\n",
      "     -\b-e\be _\bp_\ba_\bt_\bt_\be_\br_\bn, -\b--\b-r\bre\beg\bge\bex\bxp\bp=_\bp_\ba_\bt_\bt_\be_\br_\bn\n",
      "             Specify a pattern used during the search of the input: an input\n",
      "             line is selected if it matches any of the specified patterns.\n",
      "             This option is most useful when multiple -\b-e\be options are used to\n",
      "             specify multiple patterns, or when a pattern begins with a dash\n",
      "             (`-').\n",
      "\n",
      "     -\b--\b-e\bex\bxc\bcl\blu\bud\bde\be\n",
      "             If specified, it excludes files matching the given filename pat-\n",
      "             tern from the search.  Note that -\b--\b-e\bex\bxc\bcl\blu\bud\bde\be patterns take priority\n",
      "             over -\b--\b-i\bin\bnc\bcl\blu\bud\bde\be patterns, and if no -\b--\b-i\bin\bnc\bcl\blu\bud\bde\be pattern is speci-\n",
      "             fied, all files are searched that are not excluded.  Patterns are\n",
      "             matched to the full path specified, not only to the filename com-\n",
      "             ponent.\n",
      "\n",
      "     -\b--\b-e\bex\bxc\bcl\blu\bud\bde\be-\b-d\bdi\bir\br\n",
      "             If -\b-R\bR is specified, it excludes directories matching the given\n",
      "             filename pattern from the search.  Note that -\b--\b-e\bex\bxc\bcl\blu\bud\bde\be-\b-d\bdi\bir\br pat-\n",
      "             terns take priority over -\b--\b-i\bin\bnc\bcl\blu\bud\bde\be-\b-d\bdi\bir\br patterns, and if no\n",
      "             -\b--\b-i\bin\bnc\bcl\blu\bud\bde\be-\b-d\bdi\bir\br pattern is specified, all directories are searched\n",
      "             that are not excluded.\n",
      "\n",
      "     -\b-F\bF, -\b--\b-f\bfi\bix\bxe\bed\bd-\b-s\bst\btr\bri\bin\bng\bgs\bs\n",
      "             Interpret _\bp_\ba_\bt_\bt_\be_\br_\bn as a set of fixed strings (i.e. force g\bgr\bre\bep\bp to\n",
      "             behave as f\bfg\bgr\bre\bep\bp).\n",
      "\n",
      "     -\b-f\bf _\bf_\bi_\bl_\be, -\b--\b-f\bfi\bil\ble\be=_\bf_\bi_\bl_\be\n",
      "             Read one or more newline separated patterns from _\bf_\bi_\bl_\be.  Empty\n",
      "             pattern lines match every input line.  Newlines are not consid-\n",
      "             ered part of a pattern.  If _\bf_\bi_\bl_\be is empty, nothing is matched.\n",
      "\n",
      "     -\b-G\bG, -\b--\b-b\bba\bas\bsi\bic\bc-\b-r\bre\beg\bge\bex\bxp\bp\n",
      "             Interpret _\bp_\ba_\bt_\bt_\be_\br_\bn as a basic regular expression (i.e. force g\bgr\bre\bep\bp\n",
      "             to behave as traditional g\bgr\bre\bep\bp).\n",
      "\n",
      "     -\b-H\bH      Always print filename headers with output lines.\n",
      "\n",
      "     -\b-h\bh, -\b--\b-n\bno\bo-\b-f\bfi\bil\ble\ben\bna\bam\bme\be\n",
      "             Never print filename headers (i.e. filenames) with output lines.\n",
      "\n",
      "     -\b--\b-h\bhe\bel\blp\bp  Print a brief help message.\n",
      "\n",
      "     -\b-I\bI      Ignore binary files.  This option is equivalent to\n",
      "             -\b--\b-b\bbi\bin\bna\bar\bry\by-\b-f\bfi\bil\ble\be=_\bw_\bi_\bt_\bh_\bo_\bu_\bt_\b-_\bm_\ba_\bt_\bc_\bh option.\n",
      "\n",
      "     -\b-i\bi, -\b--\b-i\big\bgn\bno\bor\bre\be-\b-c\bca\bas\bse\be\n",
      "             Perform case insensitive matching.  By default, g\bgr\bre\bep\bp is case sen-\n",
      "             sitive.\n",
      "\n",
      "     -\b--\b-i\bin\bnc\bcl\blu\bud\bde\be\n",
      "             If specified, only files matching the given filename pattern are\n",
      "             searched.  Note that -\b--\b-e\bex\bxc\bcl\blu\bud\bde\be patterns take priority over\n",
      "             -\b--\b-i\bin\bnc\bcl\blu\bud\bde\be patterns.  Patterns are matched to the full path speci-\n",
      "             fied, not only to the filename component.\n",
      "\n",
      "     -\b--\b-i\bin\bnc\bcl\blu\bud\bde\be-\b-d\bdi\bir\br\n",
      "             If -\b-R\bR is specified, only directories matching the given filename\n",
      "             pattern are searched.  Note that -\b--\b-e\bex\bxc\bcl\blu\bud\bde\be-\b-d\bdi\bir\br patterns take pri-\n",
      "             ority over -\b--\b-i\bin\bnc\bcl\blu\bud\bde\be-\b-d\bdi\bir\br patterns.\n",
      "\n",
      "     -\b-J\bJ,\b, -\b--\b-b\bbz\bz2\b2d\bde\bec\bco\bom\bmp\bpr\bre\bes\bss\bs\n",
      "             Decompress the bzip2(1) compressed file before looking for the\n",
      "             text.\n",
      "\n",
      "     -\b-L\bL, -\b--\b-f\bfi\bil\ble\bes\bs-\b-w\bwi\bit\bth\bho\bou\but\bt-\b-m\bma\bat\btc\bch\bh\n",
      "             Only the names of files not containing selected lines are written\n",
      "             to standard output.  Pathnames are listed once per file searched.\n",
      "             If the standard input is searched, the string ``(standard\n",
      "             input)'' is written.\n",
      "\n",
      "     -\b-l\bl, -\b--\b-f\bfi\bil\ble\bes\bs-\b-w\bwi\bit\bth\bh-\b-m\bma\bat\btc\bch\bhe\bes\bs\n",
      "             Only the names of files containing selected lines are written to\n",
      "             standard output.  g\bgr\bre\bep\bp will only search a file until a match has\n",
      "             been found, making searches potentially less expensive.  Path-\n",
      "             names are listed once per file searched.  If the standard input\n",
      "             is searched, the string ``(standard input)'' is written.\n",
      "\n",
      "     -\b--\b-m\bmm\bma\bap\bp  Use mmap(2) instead of read(2) to read input, which can result in\n",
      "             better performance under some circumstances but can cause unde-\n",
      "             fined behaviour.\n",
      "\n",
      "     -\b-m\bm _\bn_\bu_\bm_\b, -\b--\b-m\bma\bax\bx-\b-c\bco\bou\bun\bnt\bt=_\bn_\bu_\bm\n",
      "             Stop reading the file after _\bn_\bu_\bm matches.\n",
      "\n",
      "     -\b-n\bn, -\b--\b-l\bli\bin\bne\be-\b-n\bnu\bum\bmb\bbe\ber\br\n",
      "             Each output line is preceded by its relative line number in the\n",
      "             file, starting at line 1.  The line number counter is reset for\n",
      "             each file processed.  This option is ignored if -\b-c\bc, -\b-L\bL, -\b-l\bl, or -\b-q\bq\n",
      "             is specified.\n",
      "\n",
      "     -\b--\b-n\bnu\bul\bll\bl  Prints a zero-byte after the file name.\n",
      "\n",
      "     -\b-O\bO      If -\b-R\bR is specified, follow symbolic links only if they were\n",
      "             explicitly listed on the command line.  The default is not to\n",
      "             follow symbolic links.\n",
      "\n",
      "     -\b-o\bo,\b, -\b--\b-o\bon\bnl\bly\by-\b-m\bma\bat\btc\bch\bhi\bin\bng\bg\n",
      "             Prints only the matching part of the lines.\n",
      "\n",
      "     -\b-p\bp      If -\b-R\bR is specified, no symbolic links are followed.  This is the\n",
      "             default.\n",
      "\n",
      "     -\b-q\bq, -\b--\b-q\bqu\bui\bie\bet\bt, -\b--\b-s\bsi\bil\ble\ben\bnt\bt\n",
      "             Quiet mode: suppress normal output.  g\bgr\bre\bep\bp will only search a file\n",
      "             until a match has been found, making searches potentially less\n",
      "             expensive.\n",
      "\n",
      "     -\b-R\bR, -\b-r\br, -\b--\b-r\bre\bec\bcu\bur\brs\bsi\biv\bve\be\n",
      "             Recursively search subdirectories listed.\n",
      "\n",
      "     -\b-S\bS      If -\b-R\bR is specified, all symbolic links are followed.  The default\n",
      "             is not to follow symbolic links.\n",
      "\n",
      "     -\b-s\bs, -\b--\b-n\bno\bo-\b-m\bme\bes\bss\bsa\bag\bge\bes\bs\n",
      "             Silent mode.  Nonexistent and unreadable files are ignored (i.e.\n",
      "             their error messages are suppressed).\n",
      "\n",
      "     -\b-U\bU, -\b--\b-b\bbi\bin\bna\bar\bry\by\n",
      "             Search binary files, but do not attempt to print them.\n",
      "\n",
      "     -\b-V\bV, -\b--\b-v\bve\ber\brs\bsi\bio\bon\bn\n",
      "             Display version information and exit.\n",
      "\n",
      "     -\b-v\bv, -\b--\b-i\bin\bnv\bve\ber\brt\bt-\b-m\bma\bat\btc\bch\bh\n",
      "             Selected lines are those _\bn_\bo_\bt matching any of the specified pat-\n",
      "             terns.\n",
      "\n",
      "     -\b-w\bw, -\b--\b-w\bwo\bor\brd\bd-\b-r\bre\beg\bge\bex\bxp\bp\n",
      "             The expression is searched for as a word (as if surrounded by\n",
      "             `[[:<:]]' and `[[:>:]]'; see re_format(7)).\n",
      "\n",
      "     -\b-x\bx, -\b--\b-l\bli\bin\bne\be-\b-r\bre\beg\bge\bex\bxp\bp\n",
      "             Only input lines selected against an entire fixed string or regu-\n",
      "             lar expression are considered to be matching lines.\n",
      "\n",
      "     -\b-y\by      Equivalent to -\b-i\bi.  Obsoleted.\n",
      "\n",
      "     -\b-Z\bZ, -\b-z\bz, -\b--\b-d\bde\bec\bco\bom\bmp\bpr\bre\bes\bss\bs\n",
      "             Force g\bgr\bre\bep\bp to behave as z\bzg\bgr\bre\bep\bp.\n",
      "\n",
      "     -\b--\b-b\bbi\bin\bna\bar\bry\by-\b-f\bfi\bil\ble\bes\bs=_\bv_\ba_\bl_\bu_\be\n",
      "             Controls searching and printing of binary files.  Options are\n",
      "             _\bb_\bi_\bn_\ba_\br_\by, the default: search binary files but do not print them;\n",
      "             _\bw_\bi_\bt_\bh_\bo_\bu_\bt_\b-_\bm_\ba_\bt_\bc_\bh: do not search binary files; and _\bt_\be_\bx_\bt: treat all\n",
      "             files as text.\n",
      "\n",
      "     -\b--\b-c\bco\bon\bnt\bte\bex\bxt\bt[=_\bn_\bu_\bm]\n",
      "             Print _\bn_\bu_\bm lines of leading and trailing context.  The default is\n",
      "             2.\n",
      "\n",
      "     -\b--\b-l\bli\bin\bne\be-\b-b\bbu\buf\bff\bfe\ber\bre\bed\bd\n",
      "             Force output to be line buffered.  By default, output is line\n",
      "             buffered when standard output is a terminal and block buffered\n",
      "             otherwise.\n",
      "\n",
      "     If no file arguments are specified, the standard input is used.\n",
      "\n",
      "E\bEN\bNV\bVI\bIR\bRO\bON\bNM\bME\bEN\bNT\bT\n",
      "     GREP_OPTIONS  May be used to specify default options that will be placed\n",
      "                   at the beginning of the argument list.  Backslash-escaping\n",
      "                   is not supported, unlike the behavior in GNU grep.\n",
      "\n",
      "E\bEX\bXI\bIT\bT S\bST\bTA\bAT\bTU\bUS\bS\n",
      "     The g\bgr\bre\bep\bp utility exits with one of the following values:\n",
      "\n",
      "     0     One or more lines were selected.\n",
      "     1     No lines were selected.\n",
      "     >1    An error occurred.\n",
      "\n",
      "E\bEX\bXA\bAM\bMP\bPL\bLE\bES\bS\n",
      "     To find all occurrences of the word `patricia' in a file:\n",
      "\n",
      "           $ grep 'patricia' myfile\n",
      "\n",
      "     To find all occurrences of the pattern `.Pp' at the beginning of a line:\n",
      "\n",
      "           $ grep '^\\.Pp' myfile\n",
      "\n",
      "     The apostrophes ensure the entire expression is evaluated by g\bgr\bre\bep\bp instead\n",
      "     of by the user's shell.  The caret `^' matches the null string at the\n",
      "     beginning of a line, and the `\\' escapes the `.', which would otherwise\n",
      "     match any character.\n",
      "\n",
      "     To find all lines in a file which do not contain the words `foo' or\n",
      "     `bar':\n",
      "\n",
      "           $ grep -v -e 'foo' -e 'bar' myfile\n",
      "\n",
      "     A simple example of an extended regular expression:\n",
      "\n",
      "           $ egrep '19|20|25' calendar\n",
      "\n",
      "     Peruses the file `calendar' looking for either 19, 20, or 25.\n",
      "\n",
      "S\bSE\bEE\bE A\bAL\bLS\bSO\bO\n",
      "     ed(1), ex(1), gzip(1), sed(1), re_format(7)\n",
      "\n",
      "S\bST\bTA\bAN\bND\bDA\bAR\bRD\bDS\bS\n",
      "     The g\bgr\bre\bep\bp utility is compliant with the IEEE Std 1003.1-2008 (``POSIX.1'')\n",
      "     specification.\n",
      "\n",
      "     The flags [-\b-A\bAa\baB\bBb\bbC\bCD\bDd\bdG\bGH\bHh\bhI\bIJ\bJL\bLm\bmo\boP\bPR\bRS\bSU\bUV\bVw\bwZ\bZ] are extensions to that specification,\n",
      "     and the behaviour of the -\b-f\bf flag when used with an empty pattern file is\n",
      "     left undefined.\n",
      "\n",
      "     All long options are provided for compatibility with GNU versions of this\n",
      "     utility.\n",
      "\n",
      "     Historic versions of the g\bgr\bre\bep\bp utility also supported the flags [-\b-r\bru\buy\by].\n",
      "     This implementation supports those options; however, their use is\n",
      "     strongly discouraged.\n",
      "\n",
      "H\bHI\bIS\bST\bTO\bOR\bRY\bY\n",
      "     The g\bgr\bre\bep\bp command first appeared in Version 6 AT&T UNIX.\n",
      "\n",
      "B\bBU\bUG\bGS\bS\n",
      "     The g\bgr\bre\bep\bp utility does not normalize Unicode input, so a pattern contain-\n",
      "     ing composed characters will not match decomposed input, and vice versa.\n",
      "\n",
      "BSD                              July 28, 2010                             BSD\n"
     ]
    }
   ],
   "source": [
    "%%bash\n",
    "man grep"
   ]
  },
  {
   "cell_type": "markdown",
   "metadata": {},
   "source": [
    "## Exercise 1\n",
    "<hr style=\"border: solid 1px gray; margin-top: 1.5% \">\n",
    "\n",
    "Which command would result in the following output:\n",
    "\n",
    "```\n",
    "and the presence of absence:\n",
    "\n",
    "```\n",
    "\n",
    "1. **`grep \"of\" haiku.txt`**\n",
    "1. **`grep -E \"of\" haiku.txt`**\n",
    "1. **`grep -w \"of\" haiku.txt`**\n",
    "1. **`grep -i \"of\" haiku.txt`**\n",
    "\n",
    "Solution can be found at the end of this notebook."
   ]
  },
  {
   "cell_type": "markdown",
   "metadata": {},
   "source": [
    "## Regular expressions\n",
    "\n",
    "Search patterns for **`grep`** can include wildcards or, in this context, regular expressions. These can be very complex and powerful, full tutorial on regular expressions is avalable on the Software Carpentry [site](https://v4.software-carpentry.org/regexp/index.html). \n",
    "\n",
    "As an example, we can find lines that have an ‘o’ in the second position with a pattern in the next cell:\n",
    "- **`-E`** turns on regular expression capability\n",
    "- **`^`** anchors the search at the start of line\n",
    "- **`.`** matches exactly one single character\n",
    "- **`o`** matches actual \"o\""
   ]
  },
  {
   "cell_type": "code",
   "execution_count": 13,
   "metadata": {},
   "outputs": [
    {
     "name": "stdout",
     "output_type": "stream",
     "text": [
      "You bring fresh toner.\n",
      "Today it is not working\n",
      "Software is like that.\n"
     ]
    }
   ],
   "source": [
    "%%bash\n",
    "grep -E \"^.o\" haiku.txt"
   ]
  },
  {
   "cell_type": "markdown",
   "metadata": {},
   "source": [
    "## Finding files\n",
    "<hr style=\"border: solid 1px gray; margin-top: 1.5% \">\n",
    "\n",
    "While grep finds lines in files, the **`find`** command finds files themselves. Again, **`find`** has many options; to show how the simplest ones work, we’ll use the directory tree shown below. Our current directory is **`writing`**.\n",
    "\n",
    "![File Tree for Find Example](../fig/find-file-tree.svg)\n",
    "\n",
    "The current directory contains the file **`haiku.txt`** and three other subdirectories - **`data, thesis, tools`**.\n",
    "\n",
    "The **`find`** command without any options will list all files and directories in the specified directory (**`.`** stands for the current directory)."
   ]
  },
  {
   "cell_type": "code",
   "execution_count": 14,
   "metadata": {},
   "outputs": [
    {
     "name": "stdout",
     "output_type": "stream",
     "text": [
      ".\n",
      "./tools\n",
      "./tools/old\n",
      "./tools/old/oldtool\n",
      "./tools/format\n",
      "./tools/stats\n",
      "./haiku.txt\n",
      "./thesis\n",
      "./thesis/empty-draft.md\n",
      "./data\n",
      "./data/two.txt\n",
      "./data/LittleWomen.txt\n",
      "./data/one.txt\n"
     ]
    }
   ],
   "source": [
    "%%bash\n",
    "find ."
   ]
  },
  {
   "cell_type": "markdown",
   "metadata": {},
   "source": [
    "Let's find all directories."
   ]
  },
  {
   "cell_type": "code",
   "execution_count": 15,
   "metadata": {},
   "outputs": [
    {
     "name": "stdout",
     "output_type": "stream",
     "text": [
      ".\n",
      "./tools\n",
      "./tools/old\n",
      "./thesis\n",
      "./data\n"
     ]
    }
   ],
   "source": [
    "%%bash\n",
    "find . -type d"
   ]
  },
  {
   "cell_type": "markdown",
   "metadata": {},
   "source": [
    "Let's find all files."
   ]
  },
  {
   "cell_type": "code",
   "execution_count": 16,
   "metadata": {},
   "outputs": [
    {
     "name": "stdout",
     "output_type": "stream",
     "text": [
      "./tools/old/oldtool\n",
      "./tools/format\n",
      "./tools/stats\n",
      "./haiku.txt\n",
      "./thesis/empty-draft.md\n",
      "./data/two.txt\n",
      "./data/LittleWomen.txt\n",
      "./data/one.txt\n"
     ]
    }
   ],
   "source": [
    "%%bash \n",
    "find . -type f"
   ]
  },
  {
   "cell_type": "markdown",
   "metadata": {},
   "source": [
    "We can match by name too."
   ]
  },
  {
   "cell_type": "code",
   "execution_count": 17,
   "metadata": {},
   "outputs": [
    {
     "name": "stdout",
     "output_type": "stream",
     "text": [
      "./data/two.txt\n"
     ]
    }
   ],
   "source": [
    "%%bash\n",
    "find . -name two.txt"
   ]
  },
  {
   "cell_type": "markdown",
   "metadata": {},
   "source": [
    "Let's use a wildcard to find all **`.txt`** files."
   ]
  },
  {
   "cell_type": "code",
   "execution_count": 18,
   "metadata": {},
   "outputs": [
    {
     "name": "stdout",
     "output_type": "stream",
     "text": [
      "./haiku.txt\n",
      "./data/two.txt\n",
      "./data/LittleWomen.txt\n",
      "./data/one.txt\n"
     ]
    }
   ],
   "source": [
    "%%bash\n",
    "find . -name \"*.txt\""
   ]
  },
  {
   "cell_type": "markdown",
   "metadata": {},
   "source": [
    "Note: wildcard expressions have to be surrounded by quotes, without quotes the wildcard expression will expand before the find command executes - since there is only one **`.txt`** file in the current directory, the command returns only one file **`haiku.txt`**."
   ]
  },
  {
   "cell_type": "code",
   "execution_count": 19,
   "metadata": {},
   "outputs": [
    {
     "name": "stdout",
     "output_type": "stream",
     "text": [
      "./haiku.txt\n"
     ]
    }
   ],
   "source": [
    "%%bash\n",
    "find . -name *.txt"
   ]
  },
  {
   "cell_type": "markdown",
   "metadata": {},
   "source": [
    "## Combining find with other commands\n",
    "<hr style=\"border: solid 1px gray; margin-top: 1.5% \">\n",
    "\n",
    "Often, it is useful to find a list of files matching some criteria and then perform another command on the list.  For example, we may want to count lines in each **`.txt`** file in the directory **`writing`**.\n",
    "\n",
    "The pipe utility will not work in this case **`find . -name \"*.txt\" | wc -l\"`** would cound lines in the output of **`find`** \n",
    "\n",
    "```\n",
    "./haiku.txt\n",
    "./data/two.txt\n",
    "./data/LittleWomen.txt\n",
    "./data/one.txt\n",
    "\n",
    "```\n",
    "and the result would be 4 (that is not what we wanted).\n"
   ]
  },
  {
   "cell_type": "code",
   "execution_count": 20,
   "metadata": {},
   "outputs": [
    {
     "name": "stdout",
     "output_type": "stream",
     "text": [
      "       4\n"
     ]
    }
   ],
   "source": [
    "%%bash\n",
    "# this does not work as intended\n",
    "find . -name \"*.txt\" | wc -l"
   ]
  },
  {
   "cell_type": "markdown",
   "metadata": {},
   "source": [
    "We need to nest the commands, so **`wc`** operates on the output of **`find`**.  If we surround **`find`** in **`$()`**, it will be executed before **`wc`**. \n",
    "\n",
    "*Note: The same could be achieved with two backticks.*"
   ]
  },
  {
   "cell_type": "code",
   "execution_count": 21,
   "metadata": {},
   "outputs": [
    {
     "name": "stdout",
     "output_type": "stream",
     "text": [
      "      11 ./haiku.txt\n",
      "     300 ./data/two.txt\n",
      "   21022 ./data/LittleWomen.txt\n",
      "      70 ./data/one.txt\n",
      "   21403 total\n"
     ]
    }
   ],
   "source": [
    "%%bash\n",
    " wc -l $(find . -name \"*.txt\")"
   ]
  },
  {
   "cell_type": "markdown",
   "metadata": {},
   "source": [
    "Working on Linux, one often finds themselves looking for a text (for example piece of python code) in certain type of files (for example python scripts - **`*.py`**).  The next command will be handy in these situations.\n",
    "\n",
    "The example below, uses **`grep`** to find pattern \"FE\" (iron atoms) in **`*.pdb`** files the **`data-shell`** directory (**`find`** operates on **`..`** meaning directory above)."
   ]
  },
  {
   "cell_type": "code",
   "execution_count": 22,
   "metadata": {},
   "outputs": [
    {
     "name": "stdout",
     "output_type": "stream",
     "text": [
      "../data/pdb/heme.pdb:ATOM     25 FE           1      -0.924   0.535  -0.518\n"
     ]
    }
   ],
   "source": [
    "%%bash\n",
    "grep FE $(find .. -name \"*.pdb\")\n"
   ]
  },
  {
   "cell_type": "markdown",
   "metadata": {},
   "source": [
    "## Exercise 2\n",
    "<hr style=\"border: solid 1px gray; margin-top: 1.5% \">\n",
    "\n",
    "The **`-v`** option to grep inverts pattern matching, so that only lines which do not match the pattern are printed.\n",
    "\n",
    "Given that, which of the following commands will find all files in **`../data`** whose names end in s.txt but whose names also do not contain the string net? (For example, animals.txt or amino-acids.txt but not planets.txt.) \n",
    "\n",
    "Once you have thought about your answer, you can test the commands in the data-shell directory.\n",
    "\n",
    "1. **`find data -name \"*s.txt\" | grep -v net`**\n",
    "1. **`find data -name *s.txt | grep -v net`**\n",
    "1. **`grep -v net $(find data -name \"*s.txt\")`**\n",
    "1. None of the above.\n",
    "\n",
    "Solution can be found at the end of this notebook."
   ]
  },
  {
   "cell_type": "code",
   "execution_count": null,
   "metadata": {},
   "outputs": [],
   "source": []
  },
  {
   "cell_type": "markdown",
   "metadata": {},
   "source": [
    "## Exercise 3\n",
    "<hr style=\"border: solid 1px gray; margin-top: 1.5% \">\n",
    "\n",
    "The find command can be given several other criteria known as “tests” to locate files with specific attributes, such as creation time, size, permissions, or ownership. Use man find to explore these, and then write a single command to find all files in or below the current directory that are owned by the user ahmed and were modified in the last 24 hours.\n",
    "\n",
    "Hint 1: you will need to use three tests: -type, -mtime, and -user.\n",
    "\n",
    "Hint 2: The value for -mtime will need to be negative—why?\n",
    "\n",
    "Solution can be found at the end of this notebook."
   ]
  },
  {
   "cell_type": "markdown",
   "metadata": {},
   "source": [
    "## Worked example\n",
    "You and your friend, having just finished reading Little Women by Louisa May Alcott, are in an argument. Of the four sisters in the book, Jo, Meg, Beth, and Amy, your friend thinks that Jo was the most mentioned. You, however, are certain it was Amy. Luckily, you have a file LittleWomen.txt containing the full text of the novel (**`data-shell/writing/data/LittleWomen.txt`**). Using a for loop, how would you tabulate the number of times each of the four sisters is mentioned?\n",
    "\n",
    "\n",
    "Hint: one solution might employ the commands grep and wc and a |, while another might utilize grep options. There is often more than one way to solve a programming task, so a particular solution is usually chosen based on a combination of yielding the correct result, elegance, readability, and speed.\n",
    "\n",
    "Note: **`grep -o`** will match every occurence, even if there are two on the same line. This option is best combined with **`wc -l`**."
   ]
  },
  {
   "cell_type": "code",
   "execution_count": 23,
   "metadata": {},
   "outputs": [
    {
     "name": "stdout",
     "output_type": "stream",
     "text": [
      "Jo\n",
      "1354\n",
      "Meg\n",
      "686\n",
      "Beth\n",
      "465\n",
      "Amy\n",
      "650\n"
     ]
    }
   ],
   "source": [
    "%%bash \n",
    "\n",
    "cd data\n",
    "for sis in Jo Meg Beth Amy\n",
    "do\n",
    "  echo $sis\n",
    "  grep -wcio $sis LittleWomen.txt\n",
    "done"
   ]
  },
  {
   "cell_type": "code",
   "execution_count": 24,
   "metadata": {},
   "outputs": [
    {
     "name": "stdout",
     "output_type": "stream",
     "text": [
      "Jo\n",
      "    1362\n",
      "Meg\n",
      "     686\n",
      "Beth\n",
      "     467\n",
      "Amy\n",
      "     652\n"
     ]
    }
   ],
   "source": [
    "%%bash \n",
    "\n",
    "cd data\n",
    "for sis in Jo Meg Beth Amy\n",
    "do\n",
    "  echo $sis\n",
    "  grep -woi $sis LittleWomen.txt | wc -l\n",
    "done"
   ]
  },
  {
   "cell_type": "markdown",
   "metadata": {},
   "source": [
    "## Binary files\n",
    "<hr style=\"border: solid 1px gray; margin-top: 1.5% \">\n",
    "\n",
    "\n",
    "We have focused exclusively on finding patterns in text files (files that contain readable text). What if your data is stored as images, in databases, or in some other format? These formats are in binary format and are not human-readable.\n",
    "\n",
    "A handful of tools extend grep to handle a few non-text formats. But a more generalizable approach is to convert the data to text, or extract the text-like elements from the data. On the one hand, it makes simple things easy to do. On the other hand, complex things are usually impossible.\n",
    "\n",
    "Binary files are usually better served by using a programming language and libraries that can read and process a specific binary format."
   ]
  },
  {
   "cell_type": "markdown",
   "metadata": {},
   "source": [
    "<hr style=\"border: solid 1px red; margin-top: 1.5% \">\n",
    "\n",
    "## Key points\n",
    "\n",
    "- **`find`** finds files with specific properties that match patterns.\n",
    "- **`grep`** selects lines in files that match patterns.\n",
    "- **`$(command)`** inserts a command’s output in place."
   ]
  },
  {
   "cell_type": "markdown",
   "metadata": {},
   "source": [
    "<hr style=\"border: solid 1px gray; margin-top: 1.5% \">\n",
    "\n",
    "## Solution to Exercise 1\n",
    "\n",
    "The correct answer is 3, because the -w option looks only for whole-word matches. The other options will also match ‘of’ when part of another word."
   ]
  },
  {
   "cell_type": "markdown",
   "metadata": {},
   "source": [
    "## Solution to Exercise 2\n",
    "\n",
    "The correct answer is 1. Putting the match expression in quotes prevents the shell expanding it, so it gets passed to the find command.\n",
    "\n",
    "Option 2 is incorrect because the shell expands *s.txt instead of passing the wildcard expression to find.\n",
    "\n",
    "Option 3 is incorrect because it searches the contents of the files for lines which do not match ‘net’, rather than searching the file names."
   ]
  },
  {
   "cell_type": "markdown",
   "metadata": {},
   "source": [
    "## Solution to Exercise 3\n",
    "\n",
    "Assuming that Nelle’s home is our working directory we type:\n",
    "\n",
    "```\n",
    "find ./ -type f -mtime -1 -user ahmed\n",
    "\n",
    "```"
   ]
  }
 ],
 "metadata": {
  "kernelspec": {
   "display_name": "Python 3",
   "language": "python",
   "name": "python3"
  },
  "language_info": {
   "codemirror_mode": {
    "name": "ipython",
    "version": 3
   },
   "file_extension": ".py",
   "mimetype": "text/x-python",
   "name": "python",
   "nbconvert_exporter": "python",
   "pygments_lexer": "ipython3",
   "version": "3.8.3"
  }
 },
 "nbformat": 4,
 "nbformat_minor": 2
}
